{
 "cells": [
  {
   "cell_type": "code",
   "execution_count": 1,
   "id": "steady-beginning",
   "metadata": {
    "tags": []
   },
   "outputs": [
    {
     "ename": "ModuleNotFoundError",
     "evalue": "No module named 'pandas'",
     "output_type": "error",
     "traceback": [
      "\u001b[0;31m---------------------------------------------------------------------------\u001b[0m",
      "\u001b[0;31mModuleNotFoundError\u001b[0m                       Traceback (most recent call last)",
      "Cell \u001b[0;32mIn[1], line 2\u001b[0m\n\u001b[1;32m      1\u001b[0m \u001b[38;5;28;01mfrom\u001b[39;00m \u001b[38;5;21;01msqlite3\u001b[39;00m \u001b[38;5;28;01mimport\u001b[39;00m connect\n\u001b[0;32m----> 2\u001b[0m \u001b[38;5;28;01mfrom\u001b[39;00m \u001b[38;5;21;01mpandas\u001b[39;00m \u001b[38;5;28;01mimport\u001b[39;00m read_sql\n\u001b[1;32m      4\u001b[0m \u001b[38;5;28;01mwith\u001b[39;00m connect(\u001b[38;5;124m\"\u001b[39m\u001b[38;5;124m../04/publications.db\u001b[39m\u001b[38;5;124m\"\u001b[39m) \u001b[38;5;28;01mas\u001b[39;00m con:\n\u001b[1;32m      5\u001b[0m     query \u001b[38;5;241m=\u001b[39m \u001b[38;5;124m\"\u001b[39m\u001b[38;5;124mSELECT title FROM JournalArticle\u001b[39m\u001b[38;5;124m\"\u001b[39m\n",
      "\u001b[0;31mModuleNotFoundError\u001b[0m: No module named 'pandas'"
     ]
    }
   ],
   "source": [
    "from sqlite3 import connect\n",
    "from pandas import read_sql\n",
    "\n",
    "with connect(\"../04/publications.db\") as con:\n",
    "    query = \"SELECT title FROM JournalArticle\"\n",
    "    df_sql = read_sql(query, con)\n",
    "    \n",
    "df_sql  # show the content of the result of the query"
   ]
  },
  {
   "cell_type": "code",
   "execution_count": 2,
   "id": "focused-sailing",
   "metadata": {
    "tags": []
   },
   "outputs": [
    {
     "ename": "OperationalError",
     "evalue": "unable to open database file",
     "output_type": "error",
     "traceback": [
      "\u001b[0;31m---------------------------------------------------------------------------\u001b[0m",
      "\u001b[0;31mOperationalError\u001b[0m                          Traceback (most recent call last)",
      "Cell \u001b[0;32mIn[2], line 1\u001b[0m\n\u001b[0;32m----> 1\u001b[0m \u001b[38;5;28;01mwith\u001b[39;00m \u001b[43mconnect\u001b[49m\u001b[43m(\u001b[49m\u001b[38;5;124;43m\"\u001b[39;49m\u001b[38;5;124;43m../04/publications.db\u001b[39;49m\u001b[38;5;124;43m\"\u001b[39;49m\u001b[43m)\u001b[49m \u001b[38;5;28;01mas\u001b[39;00m con:\n\u001b[1;32m      2\u001b[0m     query \u001b[38;5;241m=\u001b[39m \u001b[38;5;124m\"\u001b[39m\u001b[38;5;124mSELECT * FROM JournalArticle\u001b[39m\u001b[38;5;124m\"\u001b[39m\n\u001b[1;32m      3\u001b[0m     df_journal_article_sql \u001b[38;5;241m=\u001b[39m read_sql(query, con)\n",
      "\u001b[0;31mOperationalError\u001b[0m: unable to open database file"
     ]
    }
   ],
   "source": [
    "with connect(\"../04/publications.db\") as con:\n",
    "    query = \"SELECT * FROM JournalArticle\"\n",
    "    df_journal_article_sql = read_sql(query, con)\n",
    "\n",
    "# Show the series of the column 'publicationYear', which as 'dtype'\n",
    "# specifies 'int64', as expected\n",
    "df_journal_article_sql[\"publicationYear\"]"
   ]
  },
  {
   "cell_type": "code",
   "execution_count": 3,
   "id": "colored-rings",
   "metadata": {
    "tags": []
   },
   "outputs": [
    {
     "ename": "ModuleNotFoundError",
     "evalue": "No module named 'sparql_dataframe'",
     "output_type": "error",
     "traceback": [
      "\u001b[0;31m---------------------------------------------------------------------------\u001b[0m",
      "\u001b[0;31mModuleNotFoundError\u001b[0m                       Traceback (most recent call last)",
      "Cell \u001b[0;32mIn[3], line 1\u001b[0m\n\u001b[0;32m----> 1\u001b[0m \u001b[38;5;28;01mfrom\u001b[39;00m \u001b[38;5;21;01msparql_dataframe\u001b[39;00m \u001b[38;5;28;01mimport\u001b[39;00m get\n\u001b[1;32m      3\u001b[0m endpoint \u001b[38;5;241m=\u001b[39m \u001b[38;5;124m\"\u001b[39m\u001b[38;5;124mhttp://127.0.0.1:9999/blazegraph/sparql\u001b[39m\u001b[38;5;124m\"\u001b[39m\n\u001b[1;32m      4\u001b[0m query \u001b[38;5;241m=\u001b[39m \u001b[38;5;124m\"\"\"\u001b[39m\n\u001b[1;32m      5\u001b[0m \u001b[38;5;124mPREFIX rdf:  <http://www.w3.org/1999/02/22-rdf-syntax-ns#>\u001b[39m\n\u001b[1;32m      6\u001b[0m \u001b[38;5;124mPREFIX schema: <https://schema.org/>\u001b[39m\n\u001b[0;32m   (...)\u001b[0m\n\u001b[1;32m     12\u001b[0m \u001b[38;5;124m}\u001b[39m\n\u001b[1;32m     13\u001b[0m \u001b[38;5;124m\"\"\"\u001b[39m\n",
      "\u001b[0;31mModuleNotFoundError\u001b[0m: No module named 'sparql_dataframe'"
     ]
    }
   ],
   "source": [
    "from sparql_dataframe import get\n",
    "\n",
    "endpoint = \"http://127.0.0.1:9999/blazegraph/sparql\"\n",
    "query = \"\"\"\n",
    "PREFIX rdf:  <http://www.w3.org/1999/02/22-rdf-syntax-ns#>\n",
    "PREFIX schema: <https://schema.org/>\n",
    "\n",
    "SELECT ?journal_article ?title\n",
    "WHERE {\n",
    "    ?journal_article rdf:type schema:ScholarlyArticle .\n",
    "    ?journal_article schema:name ?title .\n",
    "}\n",
    "\"\"\"\n",
    "df_sparql = get(endpoint, query, True)\n",
    "df_sparql"
   ]
  },
  {
   "cell_type": "code",
   "execution_count": 4,
   "id": "68a57bdc-d1fe-4878-a3f2-e9a46f223a69",
   "metadata": {
    "tags": []
   },
   "outputs": [
    {
     "ename": "NameError",
     "evalue": "name 'get' is not defined",
     "output_type": "error",
     "traceback": [
      "\u001b[0;31m---------------------------------------------------------------------------\u001b[0m",
      "\u001b[0;31mNameError\u001b[0m                                 Traceback (most recent call last)",
      "Cell \u001b[0;32mIn[4], line 25\u001b[0m\n\u001b[1;32m      1\u001b[0m publication_query \u001b[38;5;241m=\u001b[39m \u001b[38;5;124m\"\"\"\u001b[39m\n\u001b[1;32m      2\u001b[0m \u001b[38;5;124mPREFIX rdf:  <http://www.w3.org/1999/02/22-rdf-syntax-ns#>\u001b[39m\n\u001b[1;32m      3\u001b[0m \u001b[38;5;124mPREFIX schema: <https://schema.org/>\u001b[39m\n\u001b[0;32m   (...)\u001b[0m\n\u001b[1;32m     22\u001b[0m \u001b[38;5;124m}\u001b[39m\n\u001b[1;32m     23\u001b[0m \u001b[38;5;124m\"\"\"\u001b[39m\n\u001b[0;32m---> 25\u001b[0m df_publications_sparql \u001b[38;5;241m=\u001b[39m \u001b[43mget\u001b[49m(endpoint, publication_query, \u001b[38;5;28;01mTrue\u001b[39;00m)\n\u001b[1;32m     26\u001b[0m df_publications_sparql\n",
      "\u001b[0;31mNameError\u001b[0m: name 'get' is not defined"
     ]
    }
   ],
   "source": [
    "publication_query = \"\"\"\n",
    "PREFIX rdf:  <http://www.w3.org/1999/02/22-rdf-syntax-ns#>\n",
    "PREFIX schema: <https://schema.org/>\n",
    "\n",
    "SELECT ?internalId ?doi ?publicationYear ?title ?issue ?volume ?publicationVenue\n",
    "WHERE {\n",
    "    VALUES ?type {\n",
    "        schema:ScholarlyArticle\n",
    "        schema:Chapter\n",
    "    }\n",
    "    \n",
    "    ?internalId rdf:type ?type .\n",
    "    ?internalId schema:identifier ?doi .\n",
    "    ?internalId schema:datePublished ?publicationYear .\n",
    "    ?internalId schema:name ?title .\n",
    "    ?internalId schema:isPartOf ?publicationVenue .\n",
    "        \n",
    "    OPTIONAL {\n",
    "        ?internalId schema:issueNumber ?issue .\n",
    "        ?internalId schema:volumeNumber ?volume .\n",
    "    }\n",
    "}\n",
    "\"\"\"\n",
    "\n",
    "df_publications_sparql = get(endpoint, publication_query, True)\n",
    "df_publications_sparql"
   ]
  },
  {
   "cell_type": "code",
   "execution_count": 5,
   "id": "8ad5aa98-74c5-4553-bd74-6ecef86e80a7",
   "metadata": {
    "tags": []
   },
   "outputs": [
    {
     "ename": "NameError",
     "evalue": "name 'df_publications_sparql' is not defined",
     "output_type": "error",
     "traceback": [
      "\u001b[0;31m---------------------------------------------------------------------------\u001b[0m",
      "\u001b[0;31mNameError\u001b[0m                                 Traceback (most recent call last)",
      "Cell \u001b[0;32mIn[5], line 1\u001b[0m\n\u001b[0;32m----> 1\u001b[0m \u001b[43mdf_publications_sparql\u001b[49m\u001b[38;5;241m.\u001b[39mdtypes\n",
      "\u001b[0;31mNameError\u001b[0m: name 'df_publications_sparql' is not defined"
     ]
    }
   ],
   "source": [
    "df_publications_sparql.dtypes"
   ]
  },
  {
   "cell_type": "code",
   "execution_count": 6,
   "id": "3fb5b55e-8e3e-49ea-9659-9b10d6957239",
   "metadata": {
    "tags": []
   },
   "outputs": [
    {
     "ename": "NameError",
     "evalue": "name 'df_publications_sparql' is not defined",
     "output_type": "error",
     "traceback": [
      "\u001b[0;31m---------------------------------------------------------------------------\u001b[0m",
      "\u001b[0;31mNameError\u001b[0m                                 Traceback (most recent call last)",
      "Cell \u001b[0;32mIn[6], line 1\u001b[0m\n\u001b[0;32m----> 1\u001b[0m df_publications_sparql[\u001b[38;5;124m\"\u001b[39m\u001b[38;5;124missue\u001b[39m\u001b[38;5;124m\"\u001b[39m] \u001b[38;5;241m=\u001b[39m \u001b[43mdf_publications_sparql\u001b[49m[\u001b[38;5;124m\"\u001b[39m\u001b[38;5;124missue\u001b[39m\u001b[38;5;124m\"\u001b[39m]\u001b[38;5;241m.\u001b[39mastype(\u001b[38;5;124m\"\u001b[39m\u001b[38;5;124mstring\u001b[39m\u001b[38;5;124m\"\u001b[39m)\n\u001b[1;32m      2\u001b[0m df_publications_sparql[\u001b[38;5;124m\"\u001b[39m\u001b[38;5;124mvolume\u001b[39m\u001b[38;5;124m\"\u001b[39m] \u001b[38;5;241m=\u001b[39m df_publications_sparql[\u001b[38;5;124m\"\u001b[39m\u001b[38;5;124mvolume\u001b[39m\u001b[38;5;124m\"\u001b[39m]\u001b[38;5;241m.\u001b[39mastype(\u001b[38;5;124m\"\u001b[39m\u001b[38;5;124mstring\u001b[39m\u001b[38;5;124m\"\u001b[39m)\n\u001b[1;32m      4\u001b[0m df_publications_sparql\u001b[38;5;241m.\u001b[39mdtypes\n",
      "\u001b[0;31mNameError\u001b[0m: name 'df_publications_sparql' is not defined"
     ]
    }
   ],
   "source": [
    "df_publications_sparql[\"issue\"] = df_publications_sparql[\"issue\"].astype(\"string\")\n",
    "df_publications_sparql[\"volume\"] = df_publications_sparql[\"volume\"].astype(\"string\")\n",
    "\n",
    "df_publications_sparql.dtypes"
   ]
  },
  {
   "cell_type": "code",
   "execution_count": 7,
   "id": "7c1c7490-5425-46d7-86a6-77fa707ebe57",
   "metadata": {
    "tags": []
   },
   "outputs": [
    {
     "ename": "NameError",
     "evalue": "name 'df_publications_sparql' is not defined",
     "output_type": "error",
     "traceback": [
      "\u001b[0;31m---------------------------------------------------------------------------\u001b[0m",
      "\u001b[0;31mNameError\u001b[0m                                 Traceback (most recent call last)",
      "Cell \u001b[0;32mIn[7], line 1\u001b[0m\n\u001b[0;32m----> 1\u001b[0m df_publications_sparql \u001b[38;5;241m=\u001b[39m \u001b[43mdf_publications_sparql\u001b[49m\u001b[38;5;241m.\u001b[39mfillna(\u001b[38;5;124m\"\u001b[39m\u001b[38;5;124m\"\u001b[39m)\n\u001b[1;32m      3\u001b[0m df_publications_sparql\n",
      "\u001b[0;31mNameError\u001b[0m: name 'df_publications_sparql' is not defined"
     ]
    }
   ],
   "source": [
    "df_publications_sparql = df_publications_sparql.fillna(\"\")\n",
    "\n",
    "df_publications_sparql"
   ]
  },
  {
   "cell_type": "code",
   "execution_count": 8,
   "id": "f2866072-8522-4fd3-abd6-d3d4c0e96452",
   "metadata": {
    "tags": []
   },
   "outputs": [],
   "source": [
    "def remove_dotzero(s):\n",
    "    return s.replace(\".0\", \"\")"
   ]
  },
  {
   "cell_type": "code",
   "execution_count": 9,
   "id": "85d785d5-ffb8-4a97-8e9b-d7a51f01e5bb",
   "metadata": {
    "tags": []
   },
   "outputs": [
    {
     "ename": "NameError",
     "evalue": "name 'df_publications_sparql' is not defined",
     "output_type": "error",
     "traceback": [
      "\u001b[0;31m---------------------------------------------------------------------------\u001b[0m",
      "\u001b[0;31mNameError\u001b[0m                                 Traceback (most recent call last)",
      "Cell \u001b[0;32mIn[9], line 1\u001b[0m\n\u001b[0;32m----> 1\u001b[0m df_publications_sparql[\u001b[38;5;124m\"\u001b[39m\u001b[38;5;124missue\u001b[39m\u001b[38;5;124m\"\u001b[39m] \u001b[38;5;241m=\u001b[39m \u001b[43mdf_publications_sparql\u001b[49m[\u001b[38;5;124m\"\u001b[39m\u001b[38;5;124missue\u001b[39m\u001b[38;5;124m\"\u001b[39m]\u001b[38;5;241m.\u001b[39mapply(remove_dotzero)\n\u001b[1;32m      2\u001b[0m df_publications_sparql[\u001b[38;5;124m\"\u001b[39m\u001b[38;5;124mvolume\u001b[39m\u001b[38;5;124m\"\u001b[39m] \u001b[38;5;241m=\u001b[39m df_publications_sparql[\u001b[38;5;124m\"\u001b[39m\u001b[38;5;124mvolume\u001b[39m\u001b[38;5;124m\"\u001b[39m]\u001b[38;5;241m.\u001b[39mapply(remove_dotzero)\n\u001b[1;32m      4\u001b[0m df_publications_sparql\n",
      "\u001b[0;31mNameError\u001b[0m: name 'df_publications_sparql' is not defined"
     ]
    }
   ],
   "source": [
    "df_publications_sparql[\"issue\"] = df_publications_sparql[\"issue\"].apply(remove_dotzero)\n",
    "df_publications_sparql[\"volume\"] = df_publications_sparql[\"volume\"].apply(remove_dotzero)\n",
    "\n",
    "df_publications_sparql"
   ]
  },
  {
   "cell_type": "code",
   "execution_count": 10,
   "id": "d4c99f9a-40d4-47a3-8117-6fe29a121997",
   "metadata": {
    "tags": []
   },
   "outputs": [
    {
     "ename": "ModuleNotFoundError",
     "evalue": "No module named 'pandas'",
     "output_type": "error",
     "traceback": [
      "\u001b[0;31m---------------------------------------------------------------------------\u001b[0m",
      "\u001b[0;31mModuleNotFoundError\u001b[0m                       Traceback (most recent call last)",
      "Cell \u001b[0;32mIn[10], line 1\u001b[0m\n\u001b[0;32m----> 1\u001b[0m \u001b[38;5;28;01mfrom\u001b[39;00m \u001b[38;5;21;01mpandas\u001b[39;00m \u001b[38;5;28;01mimport\u001b[39;00m concat\n\u001b[1;32m      3\u001b[0m df_union \u001b[38;5;241m=\u001b[39m concat([df_journal_article_sql, df_publications_sparql], ignore_index\u001b[38;5;241m=\u001b[39m\u001b[38;5;28;01mTrue\u001b[39;00m)\n\u001b[1;32m      4\u001b[0m df_union\n",
      "\u001b[0;31mModuleNotFoundError\u001b[0m: No module named 'pandas'"
     ]
    }
   ],
   "source": [
    "from pandas import concat\n",
    "\n",
    "df_union = concat([df_journal_article_sql, df_publications_sparql], ignore_index=True)\n",
    "df_union"
   ]
  },
  {
   "cell_type": "code",
   "execution_count": 11,
   "id": "699a8aca-a807-4f02-8b7d-3ed251fb3ca8",
   "metadata": {
    "tags": []
   },
   "outputs": [
    {
     "ename": "NameError",
     "evalue": "name 'df_union' is not defined",
     "output_type": "error",
     "traceback": [
      "\u001b[0;31m---------------------------------------------------------------------------\u001b[0m",
      "\u001b[0;31mNameError\u001b[0m                                 Traceback (most recent call last)",
      "Cell \u001b[0;32mIn[11], line 1\u001b[0m\n\u001b[0;32m----> 1\u001b[0m df_union_no_duplicates \u001b[38;5;241m=\u001b[39m \u001b[43mdf_union\u001b[49m\u001b[38;5;241m.\u001b[39mdrop_duplicates(subset\u001b[38;5;241m=\u001b[39m[\u001b[38;5;124m\"\u001b[39m\u001b[38;5;124mdoi\u001b[39m\u001b[38;5;124m\"\u001b[39m])\n\u001b[1;32m      2\u001b[0m df_union_no_duplicates\n",
      "\u001b[0;31mNameError\u001b[0m: name 'df_union' is not defined"
     ]
    }
   ],
   "source": [
    "df_union_no_duplicates = df_union.drop_duplicates(subset=[\"doi\"])\n",
    "df_union_no_duplicates"
   ]
  },
  {
   "cell_type": "code",
   "execution_count": 12,
   "id": "25b8d455-4a93-4966-abfc-94d70501e3d6",
   "metadata": {
    "tags": []
   },
   "outputs": [
    {
     "ename": "NameError",
     "evalue": "name 'df_union_no_duplicates' is not defined",
     "output_type": "error",
     "traceback": [
      "\u001b[0;31m---------------------------------------------------------------------------\u001b[0m",
      "\u001b[0;31mNameError\u001b[0m                                 Traceback (most recent call last)",
      "Cell \u001b[0;32mIn[12], line 1\u001b[0m\n\u001b[0;32m----> 1\u001b[0m df_union_no_duplicates_sorted \u001b[38;5;241m=\u001b[39m \u001b[43mdf_union_no_duplicates\u001b[49m\u001b[38;5;241m.\u001b[39msort_values(\u001b[38;5;124m\"\u001b[39m\u001b[38;5;124mpublicationYear\u001b[39m\u001b[38;5;124m\"\u001b[39m)\n\u001b[1;32m      2\u001b[0m df_union_no_duplicates_sorted\n",
      "\u001b[0;31mNameError\u001b[0m: name 'df_union_no_duplicates' is not defined"
     ]
    }
   ],
   "source": [
    "df_union_no_duplicates_sorted = df_union_no_duplicates.sort_values(\"publicationYear\")\n",
    "df_union_no_duplicates_sorted"
   ]
  },
  {
   "cell_type": "code",
   "execution_count": 13,
   "id": "94ee9442-c74c-4c3e-8700-84181c53dddb",
   "metadata": {
    "tags": []
   },
   "outputs": [
    {
     "ename": "NameError",
     "evalue": "name 'df_union_no_duplicates_sorted' is not defined",
     "output_type": "error",
     "traceback": [
      "\u001b[0;31m---------------------------------------------------------------------------\u001b[0m",
      "\u001b[0;31mNameError\u001b[0m                                 Traceback (most recent call last)",
      "Cell \u001b[0;32mIn[13], line 1\u001b[0m\n\u001b[0;32m----> 1\u001b[0m df_final \u001b[38;5;241m=\u001b[39m \u001b[43mdf_union_no_duplicates_sorted\u001b[49m[[\u001b[38;5;124m\"\u001b[39m\u001b[38;5;124mtitle\u001b[39m\u001b[38;5;124m\"\u001b[39m, \u001b[38;5;124m\"\u001b[39m\u001b[38;5;124mpublicationYear\u001b[39m\u001b[38;5;124m\"\u001b[39m]]\n\u001b[1;32m      2\u001b[0m df_final\n",
      "\u001b[0;31mNameError\u001b[0m: name 'df_union_no_duplicates_sorted' is not defined"
     ]
    }
   ],
   "source": [
    "df_final = df_union_no_duplicates_sorted[[\"title\", \"publicationYear\"]]\n",
    "df_final"
   ]
  },
  {
   "cell_type": "code",
   "execution_count": null,
   "id": "f02dbcc3-e4f4-428b-a516-4da7de80f0d5",
   "metadata": {},
   "outputs": [],
   "source": []
  }
 ],
 "metadata": {
  "kernelspec": {
   "display_name": "Python 3 (ipykernel)",
   "language": "python",
   "name": "python3"
  },
  "language_info": {
   "codemirror_mode": {
    "name": "ipython",
    "version": 3
   },
   "file_extension": ".py",
   "mimetype": "text/x-python",
   "name": "python",
   "nbconvert_exporter": "python",
   "pygments_lexer": "ipython3",
   "version": "3.10.12"
  }
 },
 "nbformat": 4,
 "nbformat_minor": 5
}