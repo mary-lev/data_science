{
 "cells": [
  {
   "cell_type": "code",
   "execution_count": 1,
   "id": "ready-carrier",
   "metadata": {
    "tags": []
   },
   "outputs": [],
   "source": [
    "from csv import reader\n",
    "\n",
    "with open(\"assets/data/01-publications.csv\", \"r\", encoding=\"utf-8\") as f:\n",
    "    publications = reader(f)"
   ]
  },
  {
   "cell_type": "code",
   "execution_count": 2,
   "id": "otherwise-armor",
   "metadata": {
    "tags": []
   },
   "outputs": [
    {
     "name": "stdout",
     "output_type": "stream",
     "text": [
      "<class '_csv.reader'>\n"
     ]
    }
   ],
   "source": [
    "from pprint import pprint\n",
    "\n",
    "pprint(type(publications))"
   ]
  },
  {
   "cell_type": "code",
   "execution_count": 3,
   "id": "parliamentary-importance",
   "metadata": {
    "tags": []
   },
   "outputs": [
    {
     "name": "stdout",
     "output_type": "stream",
     "text": [
      "['doi',\n",
      " 'title',\n",
      " 'publication year',\n",
      " 'publication venue',\n",
      " 'type',\n",
      " 'issue',\n",
      " 'volume']\n",
      "['10.1002/cfg.304',\n",
      " 'Development of Computational Tools for the Inference of Protein Interaction '\n",
      " 'Specificity Rules and Functional Annotation Using Structural Information',\n",
      " '2003',\n",
      " '1531-6912',\n",
      " 'journal article',\n",
      " '4',\n",
      " '4']\n",
      "['10.1016/s1367-5931(02)00332-0',\n",
      " 'In vitro selection as a powerful tool for the applied evolution of proteins '\n",
      " 'and peptides',\n",
      " '2002',\n",
      " '1367-5931',\n",
      " 'journal article',\n",
      " '3',\n",
      " '6']\n",
      "['10.1002/9780470291092.ch20',\n",
      " 'Mechanisms of Toughening in Ceramic Matrix Composites',\n",
      " '1981',\n",
      " '9780470291092',\n",
      " 'book chapter',\n",
      " '',\n",
      " '']\n"
     ]
    }
   ],
   "source": [
    "with open(\"assets/data/01-publications.csv\", \"r\", encoding=\"utf-8\") as f:\n",
    "    publications = reader(f)\n",
    "\n",
    "    for row in publications:\n",
    "        pprint(row)"
   ]
  },
  {
   "cell_type": "code",
   "execution_count": 4,
   "id": "positive-reproduction",
   "metadata": {
    "tags": []
   },
   "outputs": [
    {
     "name": "stdout",
     "output_type": "stream",
     "text": [
      "['10.1002/cfg.304',\n",
      " 'Development of Computational Tools for the Inference of Protein Interaction '\n",
      " 'Specificity Rules and Functional Annotation Using Structural Information',\n",
      " '2003',\n",
      " '1531-6912',\n",
      " 'journal article',\n",
      " '4',\n",
      " '4']\n",
      "['10.1016/s1367-5931(02)00332-0',\n",
      " 'In vitro selection as a powerful tool for the applied evolution of proteins '\n",
      " 'and peptides',\n",
      " '2002',\n",
      " '1367-5931',\n",
      " 'journal article',\n",
      " '3',\n",
      " '6']\n",
      "['10.1002/9780470291092.ch20',\n",
      " 'Mechanisms of Toughening in Ceramic Matrix Composites',\n",
      " '1981',\n",
      " '9780470291092',\n",
      " 'book chapter',\n",
      " '',\n",
      " '']\n"
     ]
    }
   ],
   "source": [
    "with open(\"assets/data/01-publications.csv\", \"r\", encoding=\"utf-8\") as f:\n",
    "    publications = reader(f)\n",
    "    next(publications)  # it skip the first row of the CSV table\n",
    "\n",
    "    for row in publications:\n",
    "        pprint(row)  # it prints all the rows except the header"
   ]
  },
  {
   "cell_type": "code",
   "execution_count": 5,
   "id": "surrounded-tattoo",
   "metadata": {
    "tags": []
   },
   "outputs": [
    {
     "name": "stdout",
     "output_type": "stream",
     "text": [
      "-- First iteration\n",
      "['doi',\n",
      " 'title',\n",
      " 'publication year',\n",
      " 'publication venue',\n",
      " 'type',\n",
      " 'issue',\n",
      " 'volume']\n",
      "['10.1002/cfg.304',\n",
      " 'Development of Computational Tools for the Inference of Protein Interaction '\n",
      " 'Specificity Rules and Functional Annotation Using Structural Information',\n",
      " '2003',\n",
      " '1531-6912',\n",
      " 'journal article',\n",
      " '4',\n",
      " '4']\n",
      "['10.1016/s1367-5931(02)00332-0',\n",
      " 'In vitro selection as a powerful tool for the applied evolution of proteins '\n",
      " 'and peptides',\n",
      " '2002',\n",
      " '1367-5931',\n",
      " 'journal article',\n",
      " '3',\n",
      " '6']\n",
      "['10.1002/9780470291092.ch20',\n",
      " 'Mechanisms of Toughening in Ceramic Matrix Composites',\n",
      " '1981',\n",
      " '9780470291092',\n",
      " 'book chapter',\n",
      " '',\n",
      " '']\n",
      "\n",
      "-- Second iteration\n"
     ]
    }
   ],
   "source": [
    "with open(\"assets/data/01-publications.csv\", \"r\", encoding=\"utf-8\") as f:\n",
    "    publications = reader(f)\n",
    "\n",
    "    print(\"-- First iteration\")\n",
    "    for row in publications:\n",
    "        pprint(row)  # all the rows will be printed, one by one\n",
    "\n",
    "    print(\"\\n-- Second iteration\")\n",
    "    for row in publications:\n",
    "        pprint(row)  # no row will be printed"
   ]
  },
  {
   "cell_type": "code",
   "execution_count": 6,
   "id": "heated-sustainability",
   "metadata": {
    "tags": []
   },
   "outputs": [],
   "source": [
    "with open(\"assets/data/01-publications.csv\", \"r\", encoding=\"utf-8\") as f:\n",
    "    publications = reader(f)\n",
    "    publications_list = list(publications)"
   ]
  },
  {
   "cell_type": "code",
   "execution_count": 7,
   "id": "preceding-denmark",
   "metadata": {
    "tags": []
   },
   "outputs": [
    {
     "name": "stdout",
     "output_type": "stream",
     "text": [
      "-- First execution\n",
      "['doi',\n",
      " 'title',\n",
      " 'publication year',\n",
      " 'publication venue',\n",
      " 'type',\n",
      " 'issue',\n",
      " 'volume']\n",
      "['10.1002/cfg.304',\n",
      " 'Development of Computational Tools for the Inference of Protein Interaction '\n",
      " 'Specificity Rules and Functional Annotation Using Structural Information',\n",
      " '2003',\n",
      " '1531-6912',\n",
      " 'journal article',\n",
      " '4',\n",
      " '4']\n",
      "['10.1016/s1367-5931(02)00332-0',\n",
      " 'In vitro selection as a powerful tool for the applied evolution of proteins '\n",
      " 'and peptides',\n",
      " '2002',\n",
      " '1367-5931',\n",
      " 'journal article',\n",
      " '3',\n",
      " '6']\n",
      "['10.1002/9780470291092.ch20',\n",
      " 'Mechanisms of Toughening in Ceramic Matrix Composites',\n",
      " '1981',\n",
      " '9780470291092',\n",
      " 'book chapter',\n",
      " '',\n",
      " '']\n",
      "\n",
      "-- Second execution\n",
      "['doi',\n",
      " 'title',\n",
      " 'publication year',\n",
      " 'publication venue',\n",
      " 'type',\n",
      " 'issue',\n",
      " 'volume']\n",
      "['10.1002/cfg.304',\n",
      " 'Development of Computational Tools for the Inference of Protein Interaction '\n",
      " 'Specificity Rules and Functional Annotation Using Structural Information',\n",
      " '2003',\n",
      " '1531-6912',\n",
      " 'journal article',\n",
      " '4',\n",
      " '4']\n",
      "['10.1016/s1367-5931(02)00332-0',\n",
      " 'In vitro selection as a powerful tool for the applied evolution of proteins '\n",
      " 'and peptides',\n",
      " '2002',\n",
      " '1367-5931',\n",
      " 'journal article',\n",
      " '3',\n",
      " '6']\n",
      "['10.1002/9780470291092.ch20',\n",
      " 'Mechanisms of Toughening in Ceramic Matrix Composites',\n",
      " '1981',\n",
      " '9780470291092',\n",
      " 'book chapter',\n",
      " '',\n",
      " '']\n"
     ]
    }
   ],
   "source": [
    "print(\"-- First execution\")\n",
    "for row in publications_list:\n",
    "    pprint(row)\n",
    "    \n",
    "print(\"\\n-- Second execution\")\n",
    "for row in publications_list:\n",
    "    pprint(row)"
   ]
  },
  {
   "cell_type": "code",
   "execution_count": 8,
   "id": "comparable-onion",
   "metadata": {
    "tags": []
   },
   "outputs": [
    {
     "name": "stdout",
     "output_type": "stream",
     "text": [
      "[['column name', 'another name, with a comma'],\n",
      " ['a value', 'a value, with a comma'],\n",
      " ['a quoted \"value\"', 'a quoted \"value\", with a comma']]\n"
     ]
    }
   ],
   "source": [
    "my_list = [\n",
    "    [ \"column name\", \"another name, with a comma\" ],              # row 1\n",
    "    [ \"a value\", \"a value, with a comma\" ],                       # row 2\n",
    "    [ \"a quoted \\\"value\\\"\", \"a quoted \\\"value\\\", with a comma\" ]  # row 3\n",
    "]\n",
    "pprint(my_list)"
   ]
  },
  {
   "cell_type": "code",
   "execution_count": 9,
   "id": "persistent-array",
   "metadata": {
    "tags": []
   },
   "outputs": [
    {
     "name": "stdout",
     "output_type": "stream",
     "text": [
      "[['column name', 'another name, with a comma'],\n",
      " ['a value', 'a value, with a comma'],\n",
      " ['a quoted \"value\"', 'a quoted \"value\", with a comma']]\n"
     ]
    }
   ],
   "source": [
    "my_list = [\n",
    "    [ 'column name', 'another name, with a comma' ],          # row 1\n",
    "    [ 'a value', 'a value, with a comma' ],                   # row 2\n",
    "    [ 'a quoted \"value\"', 'a quoted \"value\", with a comma' ]  # row 3\n",
    "]\n",
    "pprint(my_list)"
   ]
  },
  {
   "cell_type": "code",
   "execution_count": 10,
   "id": "favorite-trash",
   "metadata": {
    "tags": []
   },
   "outputs": [
    {
     "name": "stdout",
     "output_type": "stream",
     "text": [
      "-- Second row\n",
      "['10.1002/cfg.304',\n",
      " 'Development of Computational Tools for the Inference of Protein Interaction '\n",
      " 'Specificity Rules and Functional Annotation Using Structural Information',\n",
      " '2003',\n",
      " '1531-6912',\n",
      " 'journal article',\n",
      " '4',\n",
      " '4']\n",
      "\n",
      "-- Third item in second row\n",
      "'2003'\n",
      "\n",
      "-- Updated list\n",
      "[['doi',\n",
      "  'title',\n",
      "  'publication year',\n",
      "  'publication venue',\n",
      "  'type',\n",
      "  'issue',\n",
      "  'volume'],\n",
      " ['10.1002/cfg.304',\n",
      "  'Development of Computational Tools for the Inference of Protein Interaction '\n",
      "  'Specificity Rules and Functional Annotation Using Structural Information',\n",
      "  '2003',\n",
      "  '1531-6912',\n",
      "  'journal article',\n",
      "  '4',\n",
      "  '4'],\n",
      " ['10.1016/s1367-5931(02)00332-0',\n",
      "  'In vitro selection as a powerful tool for the applied evolution of proteins '\n",
      "  'and peptides',\n",
      "  '2002',\n",
      "  '1367-5931',\n",
      "  'journal article',\n",
      "  '3',\n",
      "  '6'],\n",
      " ['10.1002/9780470291092.ch20',\n",
      "  'Mechanisms of Toughening in Ceramic Matrix Composites',\n",
      "  '1981',\n",
      "  '9780470291092',\n",
      "  'book chapter',\n",
      "  '',\n",
      "  ''],\n",
      " ['10.1080/10273660500441324',\n",
      "  'Development of a Species-Specific Model of Cerebral Hemodynamics',\n",
      "  '2005',\n",
      "  '1027-3662',\n",
      "  'journal article',\n",
      "  '3',\n",
      "  '6']]\n"
     ]
    }
   ],
   "source": [
    "# retrieving the second row in the table\n",
    "second_row = publications_list[1]  # remember that item indexes starts from 0\n",
    "print(\"-- Second row\")\n",
    "pprint(second_row)\n",
    "\n",
    "# retrieving the third item in the second row\n",
    "third_item_second_row = second_row[2]\n",
    "print(\"\\n-- Third item in second row\")\n",
    "pprint(third_item_second_row)\n",
    "\n",
    "# appending a new row at the end of the list\n",
    "publications_list.append([\n",
    "    \"10.1080/10273660500441324\", \n",
    "    \"Development of a Species-Specific Model of Cerebral Hemodynamics\",\n",
    "    \"2005\",\n",
    "    \"1027-3662\",\n",
    "    \"journal article\",\n",
    "    \"3\",\n",
    "    \"6\"\n",
    "])\n",
    "print(\"\\n-- Updated list\")\n",
    "pprint(publications_list)"
   ]
  },
  {
   "cell_type": "code",
   "execution_count": 11,
   "id": "legitimate-democrat",
   "metadata": {
    "tags": []
   },
   "outputs": [],
   "source": [
    "from csv import writer\n",
    "\n",
    "with open(\"assets/data/01-publications-modified.csv\", \"w\", encoding=\"utf-8\") as f:\n",
    "    publications_modified = writer(f)\n",
    "    publications_modified.writerows(publications_list)  # it writes all the rows in the list of lists"
   ]
  },
  {
   "cell_type": "code",
   "execution_count": 12,
   "id": "gorgeous-andorra",
   "metadata": {
    "tags": []
   },
   "outputs": [
    {
     "name": "stdout",
     "output_type": "stream",
     "text": [
      "[{'doi': '10.1002/cfg.304',\n",
      "  'issue': '4',\n",
      "  'publication venue': '1531-6912',\n",
      "  'publication year': '2003',\n",
      "  'title': 'Development of Computational Tools for the Inference of Protein '\n",
      "           'Interaction Specificity Rules and Functional Annotation Using '\n",
      "           'Structural Information',\n",
      "  'type': 'journal article',\n",
      "  'volume': '4'},\n",
      " {'doi': '10.1016/s1367-5931(02)00332-0',\n",
      "  'issue': '3',\n",
      "  'publication venue': '1367-5931',\n",
      "  'publication year': '2002',\n",
      "  'title': 'In vitro selection as a powerful tool for the applied evolution of '\n",
      "           'proteins and peptides',\n",
      "  'type': 'journal article',\n",
      "  'volume': '6'},\n",
      " {'doi': '10.1002/9780470291092.ch20',\n",
      "  'issue': '',\n",
      "  'publication venue': '9780470291092',\n",
      "  'publication year': '1981',\n",
      "  'title': 'Mechanisms of Toughening in Ceramic Matrix Composites',\n",
      "  'type': 'book chapter',\n",
      "  'volume': ''},\n",
      " {'doi': '10.1080/10273660500441324',\n",
      "  'issue': '3',\n",
      "  'publication venue': '1027-3662',\n",
      "  'publication year': '2005',\n",
      "  'title': 'Development of a Species-Specific Model of Cerebral Hemodynamics',\n",
      "  'type': 'journal article',\n",
      "  'volume': '6'}]\n"
     ]
    }
   ],
   "source": [
    "from csv import DictReader\n",
    "\n",
    "with open(\"assets/data/01-publications-modified.csv\", \"r\", encoding=\"utf-8\") as f:\n",
    "    publications_modified = DictReader(f)  # it is a reader operating as a list of dictionaries\n",
    "    publications_modified_dict = list(publications_modified)  # casting the reader as a list\n",
    "\n",
    "pprint(publications_modified_dict)"
   ]
  },
  {
   "cell_type": "code",
   "execution_count": 13,
   "id": "declared-remark",
   "metadata": {
    "tags": []
   },
   "outputs": [
    {
     "name": "stdout",
     "output_type": "stream",
     "text": [
      "-- Second row\n",
      "{'doi': '10.1016/s1367-5931(02)00332-0',\n",
      " 'issue': '3',\n",
      " 'publication venue': '1367-5931',\n",
      " 'publication year': '2002',\n",
      " 'title': 'In vitro selection as a powerful tool for the applied evolution of '\n",
      "          'proteins and peptides',\n",
      " 'type': 'journal article',\n",
      " 'volume': '6'}\n",
      "\n",
      "-- Value assigned to 'title' in second row\n",
      "In vitro selection as a powerful tool for the applied evolution of proteins and peptides\n",
      "\n",
      "-- Updated list of dictionaries\n",
      "[{'doi': '10.1002/cfg.304',\n",
      "  'issue': '4',\n",
      "  'publication venue': '1531-6912',\n",
      "  'publication year': '2003',\n",
      "  'title': 'Development of Computational Tools for the Inference of Protein '\n",
      "           'Interaction Specificity Rules and Functional Annotation Using '\n",
      "           'Structural Information',\n",
      "  'type': 'journal article',\n",
      "  'volume': '4'},\n",
      " {'doi': '10.1016/s1367-5931(02)00332-0',\n",
      "  'issue': '3',\n",
      "  'publication venue': '1367-5931',\n",
      "  'publication year': '2002',\n",
      "  'title': 'In vitro selection as a powerful tool for the applied evolution of '\n",
      "           'proteins and peptides',\n",
      "  'type': 'journal article',\n",
      "  'volume': '6'},\n",
      " {'doi': '10.1002/9780470291092.ch20',\n",
      "  'issue': '',\n",
      "  'publication venue': '9780470291092',\n",
      "  'publication year': '1981',\n",
      "  'title': 'Mechanisms of Toughening in Ceramic Matrix Composites',\n",
      "  'type': 'book chapter',\n",
      "  'volume': ''},\n",
      " {'doi': '10.1080/10273660500441324',\n",
      "  'issue': '3',\n",
      "  'publication venue': '1027-3662',\n",
      "  'publication year': '2005',\n",
      "  'title': 'Development of a Species-Specific Model of Cerebral Hemodynamics',\n",
      "  'type': 'journal article',\n",
      "  'volume': '6'},\n",
      " {'doi': '10.1080/10273660412331292260',\n",
      "  'issue': '3-4',\n",
      "  'publication venue': '1027-3662',\n",
      "  'publication year': '2003',\n",
      "  'title': 'Amplified Molecular Binding of Prion Protein Homologues in '\n",
      "           'Self-Progressive Injury of Neuronal Membranes and Trafficking '\n",
      "           'Systems',\n",
      "  'type': 'journal article',\n",
      "  'volume': '5'}]\n"
     ]
    }
   ],
   "source": [
    "# retrieving the second row in the table\n",
    "second_row = publications_modified_dict[1]  # remember that item indexes starts from 0\n",
    "print(\"-- Second row\")\n",
    "pprint(second_row)\n",
    "\n",
    "# retrieving the value associated with the column 'title' in the second row\n",
    "title_value_second_row = second_row[\"title\"]\n",
    "print(\"\\n-- Value assigned to 'title' in second row\")\n",
    "print(title_value_second_row)\n",
    "\n",
    "# appending a new row at the end of the list\n",
    "publications_modified_dict.append({\n",
    "    \"doi\": \"10.1080/10273660412331292260\", \n",
    "    \"title\": \"Amplified Molecular Binding of Prion Protein Homologues in Self-Progressive Injury of Neuronal Membranes and Trafficking Systems\",\n",
    "    \"publication year\": \"2003\",\n",
    "    \"publication venue\": \"1027-3662\",\n",
    "    \"type\": \"journal article\",\n",
    "    \"issue\": \"3-4\",\n",
    "    \"volume\": \"5\"\n",
    "})\n",
    "print(\"\\n-- Updated list of dictionaries\")\n",
    "pprint(publications_modified_dict)"
   ]
  },
  {
   "cell_type": "code",
   "execution_count": 14,
   "id": "realistic-league",
   "metadata": {
    "tags": []
   },
   "outputs": [],
   "source": [
    "from csv import DictWriter\n",
    "\n",
    "with open(\"assets/data/01-publications-modified-dict.csv\", \"w\", encoding=\"utf-8\") as f:\n",
    "    header = [  # the fields defining the columns must be explicitly specified in the desired order\n",
    "        \"doi\", \"title\", \"publication year\", \"publication venue\", \"type\", \"issue\", \"volume\" ]\n",
    "    \n",
    "    publications_modified = DictWriter(f, header)\n",
    "    publications_modified.writeheader()  # the header must be explicitly created in the output file\n",
    "    publications_modified.writerows(publications_modified_dict)  # it writes all the rows, as usual"
   ]
  },
  {
   "cell_type": "code",
   "execution_count": 15,
   "id": "great-tiffany",
   "metadata": {
    "tags": []
   },
   "outputs": [],
   "source": [
    "with open(\"assets/data/01-publications-modified-dict.tsv\", \"w\", encoding=\"utf-8\") as f:\n",
    "    header = [  # the fields defining the columns must be explicitly specified in the desired order\n",
    "        \"doi\", \"title\", \"publication year\", \"publication venue\", \"type\", \"issue\", \"volume\" ]\n",
    "    \n",
    "    publications_modified = DictWriter(f, header, dialect=\"excel-tab\")  # adding the specific dialect\n",
    "    publications_modified.writeheader()  # the header must be explicitly created in the output file\n",
    "    publications_modified.writerows(publications_modified_dict)  # it writes all the rows, as usual"
   ]
  },
  {
   "cell_type": "code",
   "execution_count": 16,
   "id": "native-patch",
   "metadata": {
    "tags": []
   },
   "outputs": [],
   "source": [
    "from json import load\n",
    "\n",
    "with open(\"assets/data/01-publications-venues.json\", \"r\", encoding=\"utf-8\") as f:\n",
    "    json_doc = load(f)"
   ]
  },
  {
   "cell_type": "code",
   "execution_count": 17,
   "id": "manufactured-restaurant",
   "metadata": {
    "tags": []
   },
   "outputs": [
    {
     "name": "stdout",
     "output_type": "stream",
     "text": [
      "<class 'list'>\n"
     ]
    }
   ],
   "source": [
    "print(type(json_doc))"
   ]
  },
  {
   "cell_type": "code",
   "execution_count": 18,
   "id": "aboriginal-combining",
   "metadata": {
    "tags": []
   },
   "outputs": [
    {
     "name": "stdout",
     "output_type": "stream",
     "text": [
      "-- Second item\n",
      "{'doi': '10.1016/s1367-5931(02)00332-0',\n",
      " 'issue': '3',\n",
      " 'publication venue': {'id': ['1367-5931'],\n",
      "                       'name': 'Current Opinion in Chemical Biology',\n",
      "                       'type': 'journal'},\n",
      " 'publication year': 2002,\n",
      " 'title': 'In vitro selection as a powerful tool for the applied evolution of '\n",
      "          'proteins and peptides',\n",
      " 'type': 'journal article',\n",
      " 'volume': '6'}\n",
      "\n",
      "-- Value assigned to 'title' in second item\n",
      "In vitro selection as a powerful tool for the applied evolution of proteins and peptides\n",
      "\n",
      "-- Updated JSON array (a.k.a. list of dictionaries)\n",
      "[{'doi': '10.1002/cfg.304',\n",
      "  'issue': '4',\n",
      "  'publication venue': {'id': ['1531-6912'],\n",
      "                        'name': 'Comparative and Functional Genomics',\n",
      "                        'type': 'journal'},\n",
      "  'publication year': 2003,\n",
      "  'title': 'Development of Computational Tools for the Inference of Protein '\n",
      "           'Interaction Specificity Rules and Functional Annotation Using '\n",
      "           'Structural Information',\n",
      "  'type': 'journal article',\n",
      "  'volume': '4'},\n",
      " {'doi': '10.1016/s1367-5931(02)00332-0',\n",
      "  'issue': '3',\n",
      "  'publication venue': {'id': ['1367-5931'],\n",
      "                        'name': 'Current Opinion in Chemical Biology',\n",
      "                        'type': 'journal'},\n",
      "  'publication year': 2002,\n",
      "  'title': 'In vitro selection as a powerful tool for the applied evolution of '\n",
      "           'proteins and peptides',\n",
      "  'type': 'journal article',\n",
      "  'volume': '6'},\n",
      " {'doi': '10.1002/9780470291092.ch20',\n",
      "  'publication venue': {'id': ['9780470291092'],\n",
      "                        'name': 'Proceedings of the 5th Annual Conference on '\n",
      "                                'Composites and Advanced Ceramic Materials: '\n",
      "                                'Ceramic Engineering and Science Proceedings',\n",
      "                        'type': 'book'},\n",
      "  'publication year': 1981,\n",
      "  'title': 'Mechanisms of Toughening in Ceramic Matrix Composites',\n",
      "  'type': 'book chapter'},\n",
      " {'doi': '10.1080/10273660412331292260',\n",
      "  'issue': '3-4',\n",
      "  'publication venue': {'id': ['1027-3662'],\n",
      "                        'name': 'Journal of Theoretical Medicine',\n",
      "                        'type': 'journal'},\n",
      "  'publication year': 2003,\n",
      "  'title': 'Amplified Molecular Binding of Prion Protein Homologues in '\n",
      "           'Self-Progressive Injury of Neuronal Membranes and Trafficking '\n",
      "           'Systems',\n",
      "  'type': 'journal article',\n",
      "  'volume': '5'}]\n"
     ]
    }
   ],
   "source": [
    "# retrieving the second item in the JSON array\n",
    "second_item = json_doc[1]  # remember that item indexes starts from 0\n",
    "print(\"-- Second item\")\n",
    "pprint(second_item)\n",
    "\n",
    "# retrieving the value associated with the key 'title' in the second item\n",
    "title_value_second_item = second_item[\"title\"]\n",
    "print(\"\\n-- Value assigned to 'title' in second item\")\n",
    "print(title_value_second_item)\n",
    "\n",
    "# appending a new JSON object at the end of the list\n",
    "json_doc.append({\n",
    "    \"doi\": \"10.1080/10273660412331292260\", \n",
    "    \"title\": \"Amplified Molecular Binding of Prion Protein Homologues in Self-Progressive Injury of Neuronal Membranes and Trafficking Systems\",\n",
    "    \"publication year\": 2003,\n",
    "    \"publication venue\": {\n",
    "        \"id\": [ \"1027-3662\" ],\n",
    "        \"name\": \"Journal of Theoretical Medicine\",\n",
    "        \"type\": \"journal\"\n",
    "    },\n",
    "    \"type\": \"journal article\",\n",
    "    \"issue\": \"3-4\",\n",
    "    \"volume\": \"5\"\n",
    "})\n",
    "print(\"\\n-- Updated JSON array (a.k.a. list of dictionaries)\")\n",
    "pprint(json_doc)"
   ]
  },
  {
   "cell_type": "code",
   "execution_count": 19,
   "id": "fatal-carpet",
   "metadata": {
    "tags": []
   },
   "outputs": [],
   "source": [
    "from json import dump\n",
    "\n",
    "with open(\"assets/data/01-publications-venues-modified.json\", \"w\", encoding=\"utf-8\") as f:\n",
    "    dump(json_doc, f, ensure_ascii=False, indent=4)"
   ]
  },
  {
   "cell_type": "code",
   "execution_count": null,
   "id": "67deed68-b369-4dfe-ac7b-025fbeb45749",
   "metadata": {},
   "outputs": [],
   "source": []
  }
 ],
 "metadata": {
  "kernelspec": {
   "display_name": "Python 3 (ipykernel)",
   "language": "python",
   "name": "python3"
  },
  "language_info": {
   "codemirror_mode": {
    "name": "ipython",
    "version": 3
   },
   "file_extension": ".py",
   "mimetype": "text/x-python",
   "name": "python",
   "nbconvert_exporter": "python",
   "pygments_lexer": "ipython3",
   "version": "3.10.12"
  }
 },
 "nbformat": 4,
 "nbformat_minor": 5
}