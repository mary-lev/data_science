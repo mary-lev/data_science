{
 "cells": [
  {
   "cell_type": "markdown",
   "id": "automated-hearing",
   "metadata": {},
   "source": [
    "# Introduction to Pandas\n",
    "\n",
    "In this tutorial, we will see the basics of one of the most useful and used tool in Data Science projects, i.e. Python Pandas."
   ]
  },
  {
   "cell_type": "markdown",
   "id": "spatial-female",
   "metadata": {},
   "source": [
    "## What is Pandas\n",
    "\n",
    "[Pandas](https://pandas.pydata.org/) is a powerful tool developed for data analysis and data manipulation which is used in several Data Science projects due to its flexibility. It is accompanied by a great [user guide](https://pandas.pydata.org/docs/user_guide/index.html), [tutorials](https://pandas.pydata.org/docs/getting_started/intro_tutorials/), a [cookbook](https://pandas.pydata.org/docs/user_guide/cookbook.html), an [API documentation](https://pandas.pydata.org/docs/reference/index.html), other free books (e.g. [Python Data Science Handbook](https://jakevdp.github.io/PythonDataScienceHandbook/index.html)), and several articles on the topic (e.g. [those available](https://programminghistorian.org/en/lessons/?search=pandas) in [Programming Historian](https://programminghistorian.org)). \n",
    "\n",
    "The official website makes available a [\"Getting started\" guide](https://pandas.pydata.org/getting_started.html) to show how to install and use it. Anyway, you can install Pandas in your machine using the [pip command](https://pip.pypa.io/en/stable/) as follows:\n",
    "\n",
    "```\n",
    "pip install pandas\n",
    "```\n",
    "\n",
    "Among the various things, Pandas introduces two new classes of objects that are used to handle any kind of data in tabular form. They are the class `Series` and the class `DataFrame`, described in the following subsections."
   ]
  },
  {
   "cell_type": "markdown",
   "id": "established-spider",
   "metadata": {},
   "source": [
    "### What is a Series\n",
    "\n",
    "A [series](https://pandas.pydata.org/docs/user_guide/dsintro.html#series) is a one-dimensional array (i.e. it acts as a list) of objects of any data type (integers, strings, floating point numbers, Python objects, etc.). Each item in the series is indexed by a specific label (it can be an integer, a string, etc.), that can be used to access such an item. If no index is specified, the class `Series` will create such an index automatically using non-negative numbers (i.e. starting counting elements from 0). \n",
    "\n",
    "| <span style=\"color:red\">*index (the label)*</span> | <span style=\"color:red\">*element (the value)*</span> |\n",
    "|---|---|\n",
    "| <span style=\"color:red\">*0*</span> | Ron |\n",
    "| <span style=\"color:red\">*1*</span> | Hermione |\n",
    "| <span style=\"color:red\">*2*</span> | Harry |\n",
    "| <span style=\"color:red\">*3*</span> | Tom |\n",
    "| <span style=\"color:red\">*4*</span> | James |\n",
    "| <span style=\"color:red\">*5*</span> | Lily |\n",
    "| <span style=\"color:red\">*6*</span> | Severus |\n",
    "| <span style=\"color:red\">*7*</span> | Sirius |\n",
    "\n",
    "A new series in Pandas can be created as follows:"
   ]
  },
  {
   "cell_type": "code",
   "execution_count": 1,
   "id": "recreational-motorcycle",
   "metadata": {
    "tags": []
   },
   "outputs": [
    {
     "ename": "ModuleNotFoundError",
     "evalue": "No module named 'pandas'",
     "output_type": "error",
     "traceback": [
      "\u001b[0;31m---------------------------------------------------------------------------\u001b[0m",
      "\u001b[0;31mModuleNotFoundError\u001b[0m                       Traceback (most recent call last)",
      "Cell \u001b[0;32mIn[1], line 1\u001b[0m\n\u001b[0;32m----> 1\u001b[0m \u001b[38;5;28;01mfrom\u001b[39;00m \u001b[38;5;21;01mpandas\u001b[39;00m \u001b[38;5;28;01mimport\u001b[39;00m Series\n\u001b[1;32m      3\u001b[0m my_series \u001b[38;5;241m=\u001b[39m Series([\u001b[38;5;124m\"\u001b[39m\u001b[38;5;124mRon\u001b[39m\u001b[38;5;124m\"\u001b[39m, \u001b[38;5;124m\"\u001b[39m\u001b[38;5;124mHermione\u001b[39m\u001b[38;5;124m\"\u001b[39m, \u001b[38;5;124m\"\u001b[39m\u001b[38;5;124mHarry\u001b[39m\u001b[38;5;124m\"\u001b[39m, \u001b[38;5;124m\"\u001b[39m\u001b[38;5;124mTom\u001b[39m\u001b[38;5;124m\"\u001b[39m, \u001b[38;5;124m\"\u001b[39m\u001b[38;5;124mJames\u001b[39m\u001b[38;5;124m\"\u001b[39m, \u001b[38;5;124m\"\u001b[39m\u001b[38;5;124mLily\u001b[39m\u001b[38;5;124m\"\u001b[39m, \u001b[38;5;124m\"\u001b[39m\u001b[38;5;124mSeverus\u001b[39m\u001b[38;5;124m\"\u001b[39m, \u001b[38;5;124m\"\u001b[39m\u001b[38;5;124mSirius\u001b[39m\u001b[38;5;124m\"\u001b[39m])\n\u001b[1;32m      4\u001b[0m \u001b[38;5;28mprint\u001b[39m(my_series)\n",
      "\u001b[0;31mModuleNotFoundError\u001b[0m: No module named 'pandas'"
     ]
    }
   ],
   "source": [
    "from pandas import Series\n",
    "\n",
    "my_series = Series([\"Ron\", \"Hermione\", \"Harry\", \"Tom\", \"James\", \"Lily\", \"Severus\", \"Sirius\"])\n",
    "print(my_series)"
   ]
  },
  {
   "cell_type": "markdown",
   "id": "neutral-momentum",
   "metadata": {},
   "source": [
    "As you can see, by printing the series on screen you get several information. The first column defines the indexes used to label each element of the series, which are listed in the second column. Finally, there is an indication of which kind of object are included in the series. In particular, in Pandas, the `object` data type (i.e. `dtype`) is used to define series that are made of string or mixed type objects. \n",
    "\n",
    "There are, of course, [other data types](https://pandas.pydata.org/docs/reference/api/pandas.DataFrame.dtypes.html) that can be used in series (and, sometimes, automatically inferred by Pandas). If you already know that all the values of a certain series belong to the same data type, e.g. string as in the example above, you can force Pandas to interpret them in such a way by specifying the data type with the input named parameter `dtype` in the constructor. For instance, to list all the values of the previous series as strings, the parameter `dtype` set to the value `string` must be specified. In addition, it is also possible to assign a name (i.e. a string) to the series, using the input named parameter `name`. The use of both `dtype` and `name` are shown as follows:"
   ]
  },
  {
   "cell_type": "code",
   "execution_count": 2,
   "id": "second-january",
   "metadata": {
    "tags": []
   },
   "outputs": [
    {
     "ename": "NameError",
     "evalue": "name 'Series' is not defined",
     "output_type": "error",
     "traceback": [
      "\u001b[0;31m---------------------------------------------------------------------------\u001b[0m",
      "\u001b[0;31mNameError\u001b[0m                                 Traceback (most recent call last)",
      "Cell \u001b[0;32mIn[2], line 1\u001b[0m\n\u001b[0;32m----> 1\u001b[0m my_series \u001b[38;5;241m=\u001b[39m \u001b[43mSeries\u001b[49m([\u001b[38;5;124m\"\u001b[39m\u001b[38;5;124mRon\u001b[39m\u001b[38;5;124m\"\u001b[39m, \u001b[38;5;124m\"\u001b[39m\u001b[38;5;124mHermione\u001b[39m\u001b[38;5;124m\"\u001b[39m, \u001b[38;5;124m\"\u001b[39m\u001b[38;5;124mHarry\u001b[39m\u001b[38;5;124m\"\u001b[39m, \u001b[38;5;124m\"\u001b[39m\u001b[38;5;124mTom\u001b[39m\u001b[38;5;124m\"\u001b[39m, \u001b[38;5;124m\"\u001b[39m\u001b[38;5;124mJames\u001b[39m\u001b[38;5;124m\"\u001b[39m, \u001b[38;5;124m\"\u001b[39m\u001b[38;5;124mLily\u001b[39m\u001b[38;5;124m\"\u001b[39m, \u001b[38;5;124m\"\u001b[39m\u001b[38;5;124mSeverus\u001b[39m\u001b[38;5;124m\"\u001b[39m, \u001b[38;5;124m\"\u001b[39m\u001b[38;5;124mSirius\u001b[39m\u001b[38;5;124m\"\u001b[39m], \n\u001b[1;32m      2\u001b[0m                    dtype\u001b[38;5;241m=\u001b[39m\u001b[38;5;124m\"\u001b[39m\u001b[38;5;124mstring\u001b[39m\u001b[38;5;124m\"\u001b[39m, name\u001b[38;5;241m=\u001b[39m\u001b[38;5;124m\"\u001b[39m\u001b[38;5;124mgiven name\u001b[39m\u001b[38;5;124m\"\u001b[39m)\n\u001b[1;32m      3\u001b[0m \u001b[38;5;28mprint\u001b[39m(my_series)\n",
      "\u001b[0;31mNameError\u001b[0m: name 'Series' is not defined"
     ]
    }
   ],
   "source": [
    "my_series = Series([\"Ron\", \"Hermione\", \"Harry\", \"Tom\", \"James\", \"Lily\", \"Severus\", \"Sirius\"], \n",
    "                   dtype=\"string\", name=\"given name\")\n",
    "print(my_series)"
   ]
  },
  {
   "cell_type": "markdown",
   "id": "enhanced-freeze",
   "metadata": {},
   "source": [
    "It is possible to use the slicing mechanism similar to what implemented in Python list (i.e. `<series>[<start>:<end>]` to create subseries on the fly – it works even when the index labels are not integers! In addition, one can use either the method `get` or, alternatively, the instruction `<series>[<index>]` (it is similar to that available in Python dictionaries), taking in input an index label, to retrieve the value at the input index, as show in the following excerpt:"
   ]
  },
  {
   "cell_type": "code",
   "execution_count": 3,
   "id": "familiar-composite",
   "metadata": {
    "tags": []
   },
   "outputs": [
    {
     "ename": "NameError",
     "evalue": "name 'my_series' is not defined",
     "output_type": "error",
     "traceback": [
      "\u001b[0;31m---------------------------------------------------------------------------\u001b[0m",
      "\u001b[0;31mNameError\u001b[0m                                 Traceback (most recent call last)",
      "Cell \u001b[0;32mIn[3], line 1\u001b[0m\n\u001b[0;32m----> 1\u001b[0m sub_series \u001b[38;5;241m=\u001b[39m \u001b[43mmy_series\u001b[49m[\u001b[38;5;241m1\u001b[39m:\u001b[38;5;241m6\u001b[39m]\n\u001b[1;32m      2\u001b[0m \u001b[38;5;28mprint\u001b[39m(\u001b[38;5;124m\"\u001b[39m\u001b[38;5;124mThe new subseries is:\u001b[39m\u001b[38;5;124m\"\u001b[39m)\n\u001b[1;32m      3\u001b[0m \u001b[38;5;28mprint\u001b[39m(sub_series)\n",
      "\u001b[0;31mNameError\u001b[0m: name 'my_series' is not defined"
     ]
    }
   ],
   "source": [
    "sub_series = my_series[1:6]\n",
    "print(\"The new subseries is:\")\n",
    "print(sub_series)\n",
    "\n",
    "print(\"\\nThe element at index 5 of the new subseries is:\")\n",
    "print(sub_series[5])"
   ]
  },
  {
   "cell_type": "markdown",
   "id": "choice-baking",
   "metadata": {},
   "source": [
    "While it may seem as a list, a series in Pandas has [several additional properties and methods](https://pandas.pydata.org/docs/reference/api/pandas.Series.html) that enable one to access and modify the item in the series in very different ways. Thus, it is more powerful than a simple Python list, and it is the basic structure adopted in the class described in the following section."
   ]
  },
  {
   "cell_type": "markdown",
   "id": "compliant-cleaners",
   "metadata": {},
   "source": [
    "### What is a DataFrame\n",
    "\n",
    "In Pandas, a [DataFrame](https://pandas.pydata.org/docs/user_guide/dsintro.html#dataframe) is a table. You can imagine it as a set of named series containing the same amount of elements, where each series defines a column of the table, and all the series share the same index labels (referring to the rows of the table).\n",
    "\n",
    "| <span style=\"color:red\">*index (label for rows)*</span> | column name 1 (a series) | column name 2 (another series) |\n",
    "|---|---|---|\n",
    "| <span style=\"color:red\">*0*</span> | Ron | Wisley |\n",
    "| <span style=\"color:red\">*1*</span> | Hermione | Granger |\n",
    "| <span style=\"color:red\">*2*</span> | Harry | Potter |\n",
    "| <span style=\"color:red\">*3*</span> | Tom | Riddle |\n",
    "| <span style=\"color:red\">*4*</span> | James | Potter |\n",
    "| <span style=\"color:red\">*5*</span> | Lily | Potter |\n",
    "| <span style=\"color:red\">*6*</span> | Severus | Snape |\n",
    "| <span style=\"color:red\">*7*</span> | Sirius | Black |\n",
    "\n",
    "A new data frame in Pandas can be created as follows:"
   ]
  },
  {
   "cell_type": "code",
   "execution_count": 4,
   "id": "spread-astrology",
   "metadata": {
    "tags": []
   },
   "outputs": [
    {
     "ename": "ModuleNotFoundError",
     "evalue": "No module named 'pandas'",
     "output_type": "error",
     "traceback": [
      "\u001b[0;31m---------------------------------------------------------------------------\u001b[0m",
      "\u001b[0;31mModuleNotFoundError\u001b[0m                       Traceback (most recent call last)",
      "Cell \u001b[0;32mIn[4], line 1\u001b[0m\n\u001b[0;32m----> 1\u001b[0m \u001b[38;5;28;01mfrom\u001b[39;00m \u001b[38;5;21;01mpandas\u001b[39;00m \u001b[38;5;28;01mimport\u001b[39;00m DataFrame\n\u001b[1;32m      3\u001b[0m my_dataframe \u001b[38;5;241m=\u001b[39m DataFrame({\n\u001b[1;32m      4\u001b[0m     \u001b[38;5;124m\"\u001b[39m\u001b[38;5;124mgiven name\u001b[39m\u001b[38;5;124m\"\u001b[39m : my_series,\n\u001b[1;32m      5\u001b[0m     \u001b[38;5;124m\"\u001b[39m\u001b[38;5;124mfamily name\u001b[39m\u001b[38;5;124m\"\u001b[39m : Series(\n\u001b[1;32m      6\u001b[0m         [\u001b[38;5;124m\"\u001b[39m\u001b[38;5;124mWisley\u001b[39m\u001b[38;5;124m\"\u001b[39m, \u001b[38;5;124m\"\u001b[39m\u001b[38;5;124mGranger\u001b[39m\u001b[38;5;124m\"\u001b[39m, \u001b[38;5;124m\"\u001b[39m\u001b[38;5;124mPotter\u001b[39m\u001b[38;5;124m\"\u001b[39m, \u001b[38;5;124m\"\u001b[39m\u001b[38;5;124mRiddle\u001b[39m\u001b[38;5;124m\"\u001b[39m, \u001b[38;5;124m\"\u001b[39m\u001b[38;5;124mPotter\u001b[39m\u001b[38;5;124m\"\u001b[39m, \u001b[38;5;124m\"\u001b[39m\u001b[38;5;124mPotter\u001b[39m\u001b[38;5;124m\"\u001b[39m, \u001b[38;5;124m\"\u001b[39m\u001b[38;5;124mSnape\u001b[39m\u001b[38;5;124m\"\u001b[39m, \u001b[38;5;124m\"\u001b[39m\u001b[38;5;124mBlack\u001b[39m\u001b[38;5;124m\"\u001b[39m], dtype\u001b[38;5;241m=\u001b[39m\u001b[38;5;124m\"\u001b[39m\u001b[38;5;124mstring\u001b[39m\u001b[38;5;124m\"\u001b[39m)\n\u001b[1;32m      7\u001b[0m })\n\u001b[1;32m      9\u001b[0m \u001b[38;5;28mprint\u001b[39m(my_dataframe)\n",
      "\u001b[0;31mModuleNotFoundError\u001b[0m: No module named 'pandas'"
     ]
    }
   ],
   "source": [
    "from pandas import DataFrame\n",
    "\n",
    "my_dataframe = DataFrame({\n",
    "    \"given name\" : my_series,\n",
    "    \"family name\" : Series(\n",
    "        [\"Wisley\", \"Granger\", \"Potter\", \"Riddle\", \"Potter\", \"Potter\", \"Snape\", \"Black\"], dtype=\"string\")\n",
    "})\n",
    "\n",
    "print(my_dataframe)"
   ]
  },
  {
   "cell_type": "markdown",
   "id": "honest-faculty",
   "metadata": {},
   "source": [
    "In this case (but, please, remeber that it is not the only way to create a new data frame), we use as input a dictionary where each key defines a column name and the series associated to such a key contains the values of each cell in that column. Then we can access the various columns in the data frame using the same approach seen for series, i.e. `<dataframe>[<column name>]`, as shown in the following excerpt:"
   ]
  },
  {
   "cell_type": "code",
   "execution_count": 5,
   "id": "conservative-poverty",
   "metadata": {
    "tags": []
   },
   "outputs": [
    {
     "ename": "NameError",
     "evalue": "name 'my_dataframe' is not defined",
     "output_type": "error",
     "traceback": [
      "\u001b[0;31m---------------------------------------------------------------------------\u001b[0m",
      "\u001b[0;31mNameError\u001b[0m                                 Traceback (most recent call last)",
      "Cell \u001b[0;32mIn[5], line 1\u001b[0m\n\u001b[0;32m----> 1\u001b[0m family_name_column \u001b[38;5;241m=\u001b[39m \u001b[43mmy_dataframe\u001b[49m[\u001b[38;5;124m\"\u001b[39m\u001b[38;5;124mfamily name\u001b[39m\u001b[38;5;124m\"\u001b[39m]\n\u001b[1;32m      2\u001b[0m \u001b[38;5;28mprint\u001b[39m(family_name_column)\n",
      "\u001b[0;31mNameError\u001b[0m: name 'my_dataframe' is not defined"
     ]
    }
   ],
   "source": [
    "family_name_column = my_dataframe[\"family name\"]\n",
    "print(family_name_column)"
   ]
  },
  {
   "cell_type": "markdown",
   "id": "defined-float",
   "metadata": {},
   "source": [
    "Selecting a column returns a series defining that column that share the column name and the indexes as specified in the data frame. Similarly, using the instruction `<dataframe>.loc[<index label>]`, that takes in input an index label, returns the series defining the row at that input index, as shown in the following example:"
   ]
  },
  {
   "cell_type": "code",
   "execution_count": 6,
   "id": "several-singapore",
   "metadata": {
    "tags": []
   },
   "outputs": [
    {
     "ename": "NameError",
     "evalue": "name 'my_dataframe' is not defined",
     "output_type": "error",
     "traceback": [
      "\u001b[0;31m---------------------------------------------------------------------------\u001b[0m",
      "\u001b[0;31mNameError\u001b[0m                                 Traceback (most recent call last)",
      "Cell \u001b[0;32mIn[6], line 1\u001b[0m\n\u001b[0;32m----> 1\u001b[0m third_row \u001b[38;5;241m=\u001b[39m \u001b[43mmy_dataframe\u001b[49m\u001b[38;5;241m.\u001b[39mloc[\u001b[38;5;241m2\u001b[39m]\n\u001b[1;32m      2\u001b[0m \u001b[38;5;28mprint\u001b[39m(third_row)\n",
      "\u001b[0;31mNameError\u001b[0m: name 'my_dataframe' is not defined"
     ]
    }
   ],
   "source": [
    "third_row = my_dataframe.loc[2]\n",
    "print(third_row)"
   ]
  },
  {
   "cell_type": "markdown",
   "id": "abstract-thailand",
   "metadata": {},
   "source": [
    "As shown in the code above, it returns a series which has the column names of the original data frame as index labels of the series, the name as the index label of the data frame row selected, and the data type of the row derived from the various data types of the data frame columns.\n",
    "\n",
    "Finally, as seen with the series, also data frame can be sliced (by rows) using the indentical approach introduced in the series. For instance, the following code shows how to create a new data frame taking a selection of the rows:"
   ]
  },
  {
   "cell_type": "code",
   "execution_count": 7,
   "id": "animated-insurance",
   "metadata": {
    "tags": []
   },
   "outputs": [
    {
     "name": "stdout",
     "output_type": "stream",
     "text": [
      "The new subdataframe is:\n"
     ]
    },
    {
     "ename": "NameError",
     "evalue": "name 'my_dataframe' is not defined",
     "output_type": "error",
     "traceback": [
      "\u001b[0;31m---------------------------------------------------------------------------\u001b[0m",
      "\u001b[0;31mNameError\u001b[0m                                 Traceback (most recent call last)",
      "Cell \u001b[0;32mIn[7], line 2\u001b[0m\n\u001b[1;32m      1\u001b[0m \u001b[38;5;28mprint\u001b[39m(\u001b[38;5;124m\"\u001b[39m\u001b[38;5;124mThe new subdataframe is:\u001b[39m\u001b[38;5;124m\"\u001b[39m)\n\u001b[0;32m----> 2\u001b[0m sub_dataframe \u001b[38;5;241m=\u001b[39m \u001b[43mmy_dataframe\u001b[49m[\u001b[38;5;241m1\u001b[39m:\u001b[38;5;241m6\u001b[39m]\n\u001b[1;32m      3\u001b[0m \u001b[38;5;28mprint\u001b[39m(sub_dataframe)\n\u001b[1;32m      5\u001b[0m \u001b[38;5;28mprint\u001b[39m(\u001b[38;5;124m\"\u001b[39m\u001b[38;5;130;01m\\n\u001b[39;00m\u001b[38;5;124mThe row at index 2 of the new subdataframe is:\u001b[39m\u001b[38;5;124m\"\u001b[39m)\n",
      "\u001b[0;31mNameError\u001b[0m: name 'my_dataframe' is not defined"
     ]
    }
   ],
   "source": [
    "print(\"The new subdataframe is:\")\n",
    "sub_dataframe = my_dataframe[1:6]\n",
    "print(sub_dataframe)\n",
    "\n",
    "print(\"\\nThe row at index 2 of the new subdataframe is:\")\n",
    "print(sub_dataframe.loc[2])"
   ]
  },
  {
   "cell_type": "markdown",
   "id": "recent-apparel",
   "metadata": {},
   "source": [
    "Also a data frame in Pandas has [several additional properties and methods](https://pandas.pydata.org/docs/reference/api/pandas.DataFrame.html) that enable one to access and modify the cells in the data frame."
   ]
  },
  {
   "cell_type": "markdown",
   "id": "changed-sculpture",
   "metadata": {
    "tags": []
   },
   "source": [
    "## How to load data into Pandas\n",
    "\n",
    "Pandas makes available [several functions](https://pandas.pydata.org/docs/user_guide/io.html) to load data stored in different formats. Indeed, there is a particular function that we can use to load data from CSV representations of tabular data (as those introduced in the [first tutorial](../01/01-Data_formats_and_methods_for_storing_data_in_Python.ipynb)), i.e. the [function `read_csv`](https://pandas.pydata.org/docs/reference/api/pandas.read_csv.html).\n",
    "\n",
    "The method `read_csv` takes in input a file path and returns a `DataFrame` representing such tabular data, as shown as follows:"
   ]
  },
  {
   "cell_type": "code",
   "execution_count": 8,
   "id": "copyrighted-waterproof",
   "metadata": {
    "tags": []
   },
   "outputs": [
    {
     "ename": "ModuleNotFoundError",
     "evalue": "No module named 'pandas'",
     "output_type": "error",
     "traceback": [
      "\u001b[0;31m---------------------------------------------------------------------------\u001b[0m",
      "\u001b[0;31mModuleNotFoundError\u001b[0m                       Traceback (most recent call last)",
      "Cell \u001b[0;32mIn[8], line 1\u001b[0m\n\u001b[0;32m----> 1\u001b[0m \u001b[38;5;28;01mfrom\u001b[39;00m \u001b[38;5;21;01mpandas\u001b[39;00m \u001b[38;5;28;01mimport\u001b[39;00m read_csv\n\u001b[1;32m      3\u001b[0m df_publications \u001b[38;5;241m=\u001b[39m read_csv(\u001b[38;5;124m\"\u001b[39m\u001b[38;5;124m../01/01-publications.csv\u001b[39m\u001b[38;5;124m\"\u001b[39m)\n\u001b[1;32m      4\u001b[0m \u001b[38;5;28mprint\u001b[39m(df_publications)\n",
      "\u001b[0;31mModuleNotFoundError\u001b[0m: No module named 'pandas'"
     ]
    }
   ],
   "source": [
    "from pandas import read_csv\n",
    "\n",
    "df_publications = read_csv(\"../01/01-publications.csv\")\n",
    "print(df_publications)"
   ]
  },
  {
   "cell_type": "markdown",
   "id": "emerging-diagnosis",
   "metadata": {},
   "source": [
    "As you can see in the code above, the `print` function does not provide an appropriate visualisation of the data frame in Jupyter Lab, mainly because the content of its columns is more extensive than the example before. In Jupyter, it is possible to have a good preview of a data frame by simply name the variable in a runnable code, as follows:"
   ]
  },
  {
   "cell_type": "code",
   "execution_count": 9,
   "id": "otherwise-creek",
   "metadata": {
    "tags": []
   },
   "outputs": [
    {
     "ename": "NameError",
     "evalue": "name 'df_publications' is not defined",
     "output_type": "error",
     "traceback": [
      "\u001b[0;31m---------------------------------------------------------------------------\u001b[0m",
      "\u001b[0;31mNameError\u001b[0m                                 Traceback (most recent call last)",
      "Cell \u001b[0;32mIn[9], line 1\u001b[0m\n\u001b[0;32m----> 1\u001b[0m \u001b[43mdf_publications\u001b[49m\n",
      "\u001b[0;31mNameError\u001b[0m: name 'df_publications' is not defined"
     ]
    }
   ],
   "source": [
    "df_publications"
   ]
  },
  {
   "cell_type": "markdown",
   "id": "digital-small",
   "metadata": {},
   "source": [
    "By looking at the data frame, it appears clear that there is something odd in the data types shown, in particular in the columns `issue` and `volume`. In these columns there are two main issues. The first one concerns the data types associated to the column. Indeed, it seems that Pandas has interpreted automatically these columns as floating numbers, while they should be made of strings! This can be conformed by printing the data type (attribute `dtype`) associated to one of these columns, for instance:"
   ]
  },
  {
   "cell_type": "code",
   "execution_count": 10,
   "id": "functioning-finger",
   "metadata": {
    "tags": []
   },
   "outputs": [
    {
     "ename": "NameError",
     "evalue": "name 'df_publications' is not defined",
     "output_type": "error",
     "traceback": [
      "\u001b[0;31m---------------------------------------------------------------------------\u001b[0m",
      "\u001b[0;31mNameError\u001b[0m                                 Traceback (most recent call last)",
      "Cell \u001b[0;32mIn[10], line 1\u001b[0m\n\u001b[0;32m----> 1\u001b[0m \u001b[38;5;28mprint\u001b[39m(\u001b[43mdf_publications\u001b[49m[\u001b[38;5;124m\"\u001b[39m\u001b[38;5;124missue\u001b[39m\u001b[38;5;124m\"\u001b[39m]\u001b[38;5;241m.\u001b[39mdtype)\n",
      "\u001b[0;31mNameError\u001b[0m: name 'df_publications' is not defined"
     ]
    }
   ],
   "source": [
    "print(df_publications[\"issue\"].dtype)"
   ]
  },
  {
   "cell_type": "markdown",
   "id": "located-administration",
   "metadata": {},
   "source": [
    "The other issue concerns that strange value in the last row, i.e. `NaN`. This special object is used when there is a [missing data](https://pandas.pydata.org/pandas-docs/stable/user_guide/missing_data.html) in a cell. However, once may expect that, since in the example we are dealing with string, we should simply use an empty string to represent such a missing data instead that such special object. \n",
    "\n",
    "In order to avoid this behaviour, it may be neccessary to use the method `read_csv` specifying an additional input named parameter, i.e. `dtype`, which enables the specification of a dictionary where the keys are column names, while the values are the strings representing the data type for each column. Instead, to force Pandas to use an empty string as default for string-based column in case of missing values, it is enough to tell the function `read_csv` not to use the default `NaN` for missing value by setting the input named parameter `keep_default_na` to `False`.\n",
    "\n",
    "The following code shows how to specify such parameters, showing on screen how the new data frame has been modified:"
   ]
  },
  {
   "cell_type": "code",
   "execution_count": 11,
   "id": "engaged-deployment",
   "metadata": {
    "tags": []
   },
   "outputs": [
    {
     "ename": "NameError",
     "evalue": "name 'read_csv' is not defined",
     "output_type": "error",
     "traceback": [
      "\u001b[0;31m---------------------------------------------------------------------------\u001b[0m",
      "\u001b[0;31mNameError\u001b[0m                                 Traceback (most recent call last)",
      "Cell \u001b[0;32mIn[11], line 1\u001b[0m\n\u001b[0;32m----> 1\u001b[0m df_publications \u001b[38;5;241m=\u001b[39m \u001b[43mread_csv\u001b[49m(\u001b[38;5;124m\"\u001b[39m\u001b[38;5;124m../01/01-publications.csv\u001b[39m\u001b[38;5;124m\"\u001b[39m, \n\u001b[1;32m      2\u001b[0m                            keep_default_na\u001b[38;5;241m=\u001b[39m\u001b[38;5;28;01mFalse\u001b[39;00m,\n\u001b[1;32m      3\u001b[0m                            dtype\u001b[38;5;241m=\u001b[39m{\n\u001b[1;32m      4\u001b[0m                                \u001b[38;5;124m\"\u001b[39m\u001b[38;5;124mdoi\u001b[39m\u001b[38;5;124m\"\u001b[39m: \u001b[38;5;124m\"\u001b[39m\u001b[38;5;124mstring\u001b[39m\u001b[38;5;124m\"\u001b[39m,\n\u001b[1;32m      5\u001b[0m                                \u001b[38;5;124m\"\u001b[39m\u001b[38;5;124mtitle\u001b[39m\u001b[38;5;124m\"\u001b[39m: \u001b[38;5;124m\"\u001b[39m\u001b[38;5;124mstring\u001b[39m\u001b[38;5;124m\"\u001b[39m,\n\u001b[1;32m      6\u001b[0m                                \u001b[38;5;124m\"\u001b[39m\u001b[38;5;124mpublication year\u001b[39m\u001b[38;5;124m\"\u001b[39m: \u001b[38;5;124m\"\u001b[39m\u001b[38;5;124mint\u001b[39m\u001b[38;5;124m\"\u001b[39m,\n\u001b[1;32m      7\u001b[0m                                \u001b[38;5;124m\"\u001b[39m\u001b[38;5;124mpublication venue\u001b[39m\u001b[38;5;124m\"\u001b[39m: \u001b[38;5;124m\"\u001b[39m\u001b[38;5;124mstring\u001b[39m\u001b[38;5;124m\"\u001b[39m,\n\u001b[1;32m      8\u001b[0m                                \u001b[38;5;124m\"\u001b[39m\u001b[38;5;124mtype\u001b[39m\u001b[38;5;124m\"\u001b[39m: \u001b[38;5;124m\"\u001b[39m\u001b[38;5;124mstring\u001b[39m\u001b[38;5;124m\"\u001b[39m,\n\u001b[1;32m      9\u001b[0m                                \u001b[38;5;124m\"\u001b[39m\u001b[38;5;124missue\u001b[39m\u001b[38;5;124m\"\u001b[39m: \u001b[38;5;124m\"\u001b[39m\u001b[38;5;124mstring\u001b[39m\u001b[38;5;124m\"\u001b[39m,\n\u001b[1;32m     10\u001b[0m                                \u001b[38;5;124m\"\u001b[39m\u001b[38;5;124mvolume\u001b[39m\u001b[38;5;124m\"\u001b[39m: \u001b[38;5;124m\"\u001b[39m\u001b[38;5;124mstring\u001b[39m\u001b[38;5;124m\"\u001b[39m\n\u001b[1;32m     11\u001b[0m                            })\n\u001b[1;32m     12\u001b[0m df_publications\n",
      "\u001b[0;31mNameError\u001b[0m: name 'read_csv' is not defined"
     ]
    }
   ],
   "source": [
    "df_publications = read_csv(\"../01/01-publications.csv\", \n",
    "                           keep_default_na=False,\n",
    "                           dtype={\n",
    "                               \"doi\": \"string\",\n",
    "                               \"title\": \"string\",\n",
    "                               \"publication year\": \"int\",\n",
    "                               \"publication venue\": \"string\",\n",
    "                               \"type\": \"string\",\n",
    "                               \"issue\": \"string\",\n",
    "                               \"volume\": \"string\"\n",
    "                           })\n",
    "df_publications"
   ]
  },
  {
   "cell_type": "markdown",
   "id": "comparative-invasion",
   "metadata": {},
   "source": [
    "## Iterating over a DataFrame and a Series\n",
    "\n",
    "Being a table, there are two possible strategies for iterating over a `DataFrame` object: row iteration and column iteration. These two can be achieved by means of two distinct methods of the class `DataFrame`: the [method `iterrows`](https://pandas.pydata.org/pandas-docs/stable/reference/api/pandas.DataFrame.iterrows.html) and the [method `items`](https://pandas.pydata.org/pandas-docs/stable/reference/api/pandas.DataFrame.items.html).\n",
    "\n",
    "The method `iterrows` is used to retrieve a list-like structure where each item has two elements: the index label and a series representing the row related to that index."
   ]
  },
  {
   "cell_type": "code",
   "execution_count": 12,
   "id": "musical-nylon",
   "metadata": {
    "tags": []
   },
   "outputs": [
    {
     "ename": "NameError",
     "evalue": "name 'df_publications' is not defined",
     "output_type": "error",
     "traceback": [
      "\u001b[0;31m---------------------------------------------------------------------------\u001b[0m",
      "\u001b[0;31mNameError\u001b[0m                                 Traceback (most recent call last)",
      "Cell \u001b[0;32mIn[12], line 1\u001b[0m\n\u001b[0;32m----> 1\u001b[0m \u001b[38;5;28;01mfor\u001b[39;00m idx, row \u001b[38;5;129;01min\u001b[39;00m \u001b[43mdf_publications\u001b[49m\u001b[38;5;241m.\u001b[39miterrows():\n\u001b[1;32m      2\u001b[0m     \u001b[38;5;28mprint\u001b[39m(\u001b[38;5;124m\"\u001b[39m\u001b[38;5;130;01m\\n\u001b[39;00m\u001b[38;5;124mThe index of the current row is\u001b[39m\u001b[38;5;124m\"\u001b[39m, idx)\n\u001b[1;32m      3\u001b[0m     \u001b[38;5;28mprint\u001b[39m(\u001b[38;5;124m\"\u001b[39m\u001b[38;5;124mThe content of the row is as follows:\u001b[39m\u001b[38;5;124m\"\u001b[39m)\n",
      "\u001b[0;31mNameError\u001b[0m: name 'df_publications' is not defined"
     ]
    }
   ],
   "source": [
    "for idx, row in df_publications.iterrows():\n",
    "    print(\"\\nThe index of the current row is\", idx)\n",
    "    print(\"The content of the row is as follows:\")\n",
    "    print(row)"
   ]
  },
  {
   "cell_type": "markdown",
   "id": "civic-image",
   "metadata": {},
   "source": [
    "If one wants to iterate also over a series representing a row, keeping track of the index labels of the series representing the row (i.e. the column names), one can use the [method `items`](https://pandas.pydata.org/pandas-docs/stable/reference/api/pandas.Series.items.html#pandas.Series.items) of the class `Series`:"
   ]
  },
  {
   "cell_type": "code",
   "execution_count": 13,
   "id": "empirical-marsh",
   "metadata": {
    "tags": []
   },
   "outputs": [
    {
     "ename": "NameError",
     "evalue": "name 'df_publications' is not defined",
     "output_type": "error",
     "traceback": [
      "\u001b[0;31m---------------------------------------------------------------------------\u001b[0m",
      "\u001b[0;31mNameError\u001b[0m                                 Traceback (most recent call last)",
      "Cell \u001b[0;32mIn[13], line 1\u001b[0m\n\u001b[0;32m----> 1\u001b[0m \u001b[38;5;28;01mfor\u001b[39;00m row_idx, row \u001b[38;5;129;01min\u001b[39;00m \u001b[43mdf_publications\u001b[49m\u001b[38;5;241m.\u001b[39miterrows():\n\u001b[1;32m      2\u001b[0m     \u001b[38;5;28mprint\u001b[39m(\u001b[38;5;124m\"\u001b[39m\u001b[38;5;130;01m\\n\u001b[39;00m\u001b[38;5;124mRow index\u001b[39m\u001b[38;5;124m\"\u001b[39m, row_idx)\n\u001b[1;32m      3\u001b[0m     \u001b[38;5;28;01mfor\u001b[39;00m item_idx, item \u001b[38;5;129;01min\u001b[39;00m row\u001b[38;5;241m.\u001b[39mitems():\n",
      "\u001b[0;31mNameError\u001b[0m: name 'df_publications' is not defined"
     ]
    }
   ],
   "source": [
    "for row_idx, row in df_publications.iterrows():\n",
    "    print(\"\\nRow index\", row_idx)\n",
    "    for item_idx, item in row.items():\n",
    "        print(item_idx, \"-->\", item)"
   ]
  },
  {
   "cell_type": "markdown",
   "id": "central-rental",
   "metadata": {},
   "source": [
    "The method `items` of the class `DataFrame` is used to retrieve a list-like structure where each item has two elements: the column name and a series representing the related column, as shown in the following excerpt:"
   ]
  },
  {
   "cell_type": "code",
   "execution_count": 14,
   "id": "latest-application",
   "metadata": {
    "tags": []
   },
   "outputs": [
    {
     "ename": "NameError",
     "evalue": "name 'df_publications' is not defined",
     "output_type": "error",
     "traceback": [
      "\u001b[0;31m---------------------------------------------------------------------------\u001b[0m",
      "\u001b[0;31mNameError\u001b[0m                                 Traceback (most recent call last)",
      "Cell \u001b[0;32mIn[14], line 1\u001b[0m\n\u001b[0;32m----> 1\u001b[0m \u001b[38;5;28;01mfor\u001b[39;00m column_name, column \u001b[38;5;129;01min\u001b[39;00m \u001b[43mdf_publications\u001b[49m\u001b[38;5;241m.\u001b[39mitems():\n\u001b[1;32m      2\u001b[0m     \u001b[38;5;28mprint\u001b[39m(\u001b[38;5;124m\"\u001b[39m\u001b[38;5;130;01m\\n\u001b[39;00m\u001b[38;5;124mThe name of the current column is\u001b[39m\u001b[38;5;124m\"\u001b[39m, column_name)\n\u001b[1;32m      3\u001b[0m     \u001b[38;5;28mprint\u001b[39m(\u001b[38;5;124m\"\u001b[39m\u001b[38;5;124mThe content of the column is as follows:\u001b[39m\u001b[38;5;124m\"\u001b[39m)\n",
      "\u001b[0;31mNameError\u001b[0m: name 'df_publications' is not defined"
     ]
    }
   ],
   "source": [
    "for column_name, column in df_publications.items():\n",
    "    print(\"\\nThe name of the current column is\", column_name)\n",
    "    print(\"The content of the column is as follows:\")\n",
    "    print(column)"
   ]
  },
  {
   "cell_type": "markdown",
   "id": "surgical-audit",
   "metadata": {},
   "source": [
    "## How to store data with Pandas\n",
    "\n",
    "Pandas makes available a specific method (i.e. `to_csv`) to its main classes, i.e. `Series` and `DataFrame`, to enable one to store them in the filesystem. In the `DataFrame` class, the [method `to_csv`](https://pandas.pydata.org/docs/reference/api/pandas.DataFrame.to_csv.html) takes in input the file path where to store the CSV file representing the data frame as shown as follows:"
   ]
  },
  {
   "cell_type": "code",
   "execution_count": 15,
   "id": "painted-tenant",
   "metadata": {
    "tags": []
   },
   "outputs": [
    {
     "ename": "NameError",
     "evalue": "name 'df_publications' is not defined",
     "output_type": "error",
     "traceback": [
      "\u001b[0;31m---------------------------------------------------------------------------\u001b[0m",
      "\u001b[0;31mNameError\u001b[0m                                 Traceback (most recent call last)",
      "Cell \u001b[0;32mIn[15], line 1\u001b[0m\n\u001b[0;32m----> 1\u001b[0m \u001b[43mdf_publications\u001b[49m\u001b[38;5;241m.\u001b[39mto_csv(\u001b[38;5;124m\"\u001b[39m\u001b[38;5;124m03-publications.csv\u001b[39m\u001b[38;5;124m\"\u001b[39m)\n",
      "\u001b[0;31mNameError\u001b[0m: name 'df_publications' is not defined"
     ]
    }
   ],
   "source": [
    "df_publications.to_csv(\"03-publications.csv\")"
   ]
  },
  {
   "cell_type": "markdown",
   "id": "unexpected-reynolds",
   "metadata": {},
   "source": [
    "However, the method `to_csv` called as shown above will store also an additional column at the beginning, i.e. that related with the index labels for each row. In order to avoid to preserve the index, it is possible to set the input named parameter `index` to `False`, as shown in the following excerpt:"
   ]
  },
  {
   "cell_type": "code",
   "execution_count": 16,
   "id": "military-newspaper",
   "metadata": {
    "tags": []
   },
   "outputs": [
    {
     "ename": "NameError",
     "evalue": "name 'df_publications' is not defined",
     "output_type": "error",
     "traceback": [
      "\u001b[0;31m---------------------------------------------------------------------------\u001b[0m",
      "\u001b[0;31mNameError\u001b[0m                                 Traceback (most recent call last)",
      "Cell \u001b[0;32mIn[16], line 1\u001b[0m\n\u001b[0;32m----> 1\u001b[0m \u001b[43mdf_publications\u001b[49m\u001b[38;5;241m.\u001b[39mto_csv(\u001b[38;5;124m\"\u001b[39m\u001b[38;5;124m03-publications_no_index.csv\u001b[39m\u001b[38;5;124m\"\u001b[39m, index\u001b[38;5;241m=\u001b[39m\u001b[38;5;28;01mFalse\u001b[39;00m)\n",
      "\u001b[0;31mNameError\u001b[0m: name 'df_publications' is not defined"
     ]
    }
   ],
   "source": [
    "df_publications.to_csv(\"03-publications_no_index.csv\", index=False)"
   ]
  },
  {
   "cell_type": "markdown",
   "id": "focal-venezuela",
   "metadata": {},
   "source": [
    "## Main operations with DataFrame\n",
    "\n",
    "Pandas makes available several operations for [indexing, selecting](https://pandas.pydata.org/docs/user_guide/indexing.html), [merging, joining, concatenating, and comparing](https://pandas.pydata.org/docs/user_guide/merging.html) data in a data frame. In the following section, we introduce two of them, but several additional operations are available in the documentation linked above."
   ]
  },
  {
   "cell_type": "markdown",
   "id": "express-biodiversity",
   "metadata": {},
   "source": [
    "### Querying\n",
    "\n",
    "Pandas has several ways enabling querying a data frame and returning a selections of its rows. Among the various methods, one extremely useful is the [method `query`](https://pandas.pydata.org/docs/reference/api/pandas.DataFrame.query.html), that takes in input a string representing an expression for querying the data frame and returns a new data frame compliant with the query.\n",
    "\n",
    "The expression can be a [combination of boolean expressions and comparisons](https://pandas.pydata.org/docs/user_guide/indexing.html#the-query-method), that enable to filter rows according to the values of its cells. For instance, to get all the rows that are journal articles, one can run the following query:"
   ]
  },
  {
   "cell_type": "code",
   "execution_count": 17,
   "id": "respiratory-collectible",
   "metadata": {
    "tags": []
   },
   "outputs": [
    {
     "ename": "NameError",
     "evalue": "name 'df_publications' is not defined",
     "output_type": "error",
     "traceback": [
      "\u001b[0;31m---------------------------------------------------------------------------\u001b[0m",
      "\u001b[0;31mNameError\u001b[0m                                 Traceback (most recent call last)",
      "Cell \u001b[0;32mIn[17], line 1\u001b[0m\n\u001b[0;32m----> 1\u001b[0m \u001b[43mdf_publications\u001b[49m\u001b[38;5;241m.\u001b[39mquery(\u001b[38;5;124m\"\u001b[39m\u001b[38;5;124mtype == \u001b[39m\u001b[38;5;124m'\u001b[39m\u001b[38;5;124mjournal article\u001b[39m\u001b[38;5;124m'\u001b[39m\u001b[38;5;124m\"\u001b[39m)\n",
      "\u001b[0;31mNameError\u001b[0m: name 'df_publications' is not defined"
     ]
    }
   ],
   "source": [
    "df_publications.query(\"type == 'journal article'\")"
   ]
  },
  {
   "cell_type": "markdown",
   "id": "terminal-salad",
   "metadata": {},
   "source": [
    "In case we want to refer to columns with spaces, we must use the tick character (i.e. <code>`</code>) to enclose the name of the column. For instance, to get all the rows that have a publication date lesser than <code>2003</code>, we can run the following query:"
   ]
  },
  {
   "cell_type": "code",
   "execution_count": 18,
   "id": "jewish-holiday",
   "metadata": {
    "tags": []
   },
   "outputs": [
    {
     "ename": "NameError",
     "evalue": "name 'df_publications' is not defined",
     "output_type": "error",
     "traceback": [
      "\u001b[0;31m---------------------------------------------------------------------------\u001b[0m",
      "\u001b[0;31mNameError\u001b[0m                                 Traceback (most recent call last)",
      "Cell \u001b[0;32mIn[18], line 1\u001b[0m\n\u001b[0;32m----> 1\u001b[0m \u001b[43mdf_publications\u001b[49m\u001b[38;5;241m.\u001b[39mquery(\u001b[38;5;124m\"\u001b[39m\u001b[38;5;124m`publication year` < 2003\u001b[39m\u001b[38;5;124m\"\u001b[39m)\n",
      "\u001b[0;31mNameError\u001b[0m: name 'df_publications' is not defined"
     ]
    }
   ],
   "source": [
    "df_publications.query(\"`publication year` < 2003\")"
   ]
  },
  {
   "cell_type": "markdown",
   "id": "golden-aurora",
   "metadata": {},
   "source": [
    "It is also possible to combine queries by using the boolean operators `and` and `or`. For instance, to get all the journal articles published before 2003, we can run the following query:"
   ]
  },
  {
   "cell_type": "code",
   "execution_count": 19,
   "id": "detected-notification",
   "metadata": {
    "tags": []
   },
   "outputs": [
    {
     "ename": "NameError",
     "evalue": "name 'df_publications' is not defined",
     "output_type": "error",
     "traceback": [
      "\u001b[0;31m---------------------------------------------------------------------------\u001b[0m",
      "\u001b[0;31mNameError\u001b[0m                                 Traceback (most recent call last)",
      "Cell \u001b[0;32mIn[19], line 1\u001b[0m\n\u001b[0;32m----> 1\u001b[0m \u001b[43mdf_publications\u001b[49m\u001b[38;5;241m.\u001b[39mquery(\u001b[38;5;124m\"\u001b[39m\u001b[38;5;124mtype == \u001b[39m\u001b[38;5;124m'\u001b[39m\u001b[38;5;124mjournal article\u001b[39m\u001b[38;5;124m'\u001b[39m\u001b[38;5;124m and `publication year` < 2003\u001b[39m\u001b[38;5;124m\"\u001b[39m)\n",
      "\u001b[0;31mNameError\u001b[0m: name 'df_publications' is not defined"
     ]
    }
   ],
   "source": [
    "df_publications.query(\"type == 'journal article' and `publication year` < 2003\")"
   ]
  },
  {
   "cell_type": "markdown",
   "id": "impressed-penetration",
   "metadata": {},
   "source": [
    "### Joining\n",
    "\n",
    "Joining two data frames into a new one according to some common value is a crucial operation to enable to answer more complex query, such as getting all the articles published in the journal named *Current Opinion in Chemical Biology*. Indeed, the data frame about publications we have considered so fare does not have any information about the name of the venues, nor their types. However, considering the data we used in the first tutorial, we know that such information is actually included in another CSV file entirely dedicated to venues, that we can load in pandas as follows:"
   ]
  },
  {
   "cell_type": "code",
   "execution_count": 20,
   "id": "japanese-temperature",
   "metadata": {
    "tags": []
   },
   "outputs": [
    {
     "ename": "NameError",
     "evalue": "name 'read_csv' is not defined",
     "output_type": "error",
     "traceback": [
      "\u001b[0;31m---------------------------------------------------------------------------\u001b[0m",
      "\u001b[0;31mNameError\u001b[0m                                 Traceback (most recent call last)",
      "Cell \u001b[0;32mIn[20], line 1\u001b[0m\n\u001b[0;32m----> 1\u001b[0m df_venues \u001b[38;5;241m=\u001b[39m \u001b[43mread_csv\u001b[49m(\u001b[38;5;124m\"\u001b[39m\u001b[38;5;124m../01/01-venues.csv\u001b[39m\u001b[38;5;124m\"\u001b[39m, \n\u001b[1;32m      2\u001b[0m                      keep_default_na\u001b[38;5;241m=\u001b[39m\u001b[38;5;28;01mFalse\u001b[39;00m,\n\u001b[1;32m      3\u001b[0m                      dtype\u001b[38;5;241m=\u001b[39m{\n\u001b[1;32m      4\u001b[0m                          \u001b[38;5;124m\"\u001b[39m\u001b[38;5;124mid\u001b[39m\u001b[38;5;124m\"\u001b[39m: \u001b[38;5;124m\"\u001b[39m\u001b[38;5;124mstring\u001b[39m\u001b[38;5;124m\"\u001b[39m,\n\u001b[1;32m      5\u001b[0m                          \u001b[38;5;124m\"\u001b[39m\u001b[38;5;124mname\u001b[39m\u001b[38;5;124m\"\u001b[39m: \u001b[38;5;124m\"\u001b[39m\u001b[38;5;124mstring\u001b[39m\u001b[38;5;124m\"\u001b[39m,\n\u001b[1;32m      6\u001b[0m                          \u001b[38;5;124m\"\u001b[39m\u001b[38;5;124mtype\u001b[39m\u001b[38;5;124m\"\u001b[39m: \u001b[38;5;124m\"\u001b[39m\u001b[38;5;124mstring\u001b[39m\u001b[38;5;124m\"\u001b[39m\n\u001b[1;32m      7\u001b[0m                      })\n\u001b[1;32m      8\u001b[0m df_venues  \u001b[38;5;66;03m# draw the table in the notebook\u001b[39;00m\n",
      "\u001b[0;31mNameError\u001b[0m: name 'read_csv' is not defined"
     ]
    }
   ],
   "source": [
    "df_venues = read_csv(\"../01/01-venues.csv\", \n",
    "                     keep_default_na=False,\n",
    "                     dtype={\n",
    "                         \"id\": \"string\",\n",
    "                         \"name\": \"string\",\n",
    "                         \"type\": \"string\"\n",
    "                     })\n",
    "df_venues  # draw the table in the notebook"
   ]
  },
  {
   "cell_type": "markdown",
   "id": "progressive-saskatchewan",
   "metadata": {},
   "source": [
    "Thus, in order to run such a query, first we should ask to this new data frame which is the `id` associated to the journal named *Current Openion in Chemical Biology*, and then to ask the other data frame with publications to retrieve all the rows that have such an identifier as `publication venue`.\n",
    "\n",
    "However, in Pandas this can be done in just one query if we join before the two data frames in a new one containing a combination of the two tables. Indeed, as you can obsever, the data frame of publications and that of venues share some values in common. Indeed, as mentioned above, the values specified in the `publication venue` column in the publications data frame recall those specified in the `id` column of the venue data frame. Thus, in principle, it is possible to join these two tables by considering that common values. \n",
    "\n",
    "Pandas provides the [function `merge`](https://pandas.pydata.org/docs/user_guide/merging.html#database-style-dataframe-or-named-series-joining-merging) to perform such an operation. Among the various input parameters such a function can take in input, those we use in this example to join these two data frames are the data frames them self and the name of the columns in the first (named *left*) data frame and the second (named *right*) data frame to use for joining, specified by using the input named parameters `left_on` and `right_on` respectively, as shown in the following excerpt:"
   ]
  },
  {
   "cell_type": "code",
   "execution_count": 21,
   "id": "current-liechtenstein",
   "metadata": {
    "tags": []
   },
   "outputs": [
    {
     "ename": "ModuleNotFoundError",
     "evalue": "No module named 'pandas'",
     "output_type": "error",
     "traceback": [
      "\u001b[0;31m---------------------------------------------------------------------------\u001b[0m",
      "\u001b[0;31mModuleNotFoundError\u001b[0m                       Traceback (most recent call last)",
      "Cell \u001b[0;32mIn[21], line 1\u001b[0m\n\u001b[0;32m----> 1\u001b[0m \u001b[38;5;28;01mfrom\u001b[39;00m \u001b[38;5;21;01mpandas\u001b[39;00m \u001b[38;5;28;01mimport\u001b[39;00m merge\n\u001b[1;32m      3\u001b[0m df_joined \u001b[38;5;241m=\u001b[39m merge(df_publications, df_venues, left_on\u001b[38;5;241m=\u001b[39m\u001b[38;5;124m\"\u001b[39m\u001b[38;5;124mpublication venue\u001b[39m\u001b[38;5;124m\"\u001b[39m, right_on\u001b[38;5;241m=\u001b[39m\u001b[38;5;124m\"\u001b[39m\u001b[38;5;124mid\u001b[39m\u001b[38;5;124m\"\u001b[39m)\n\u001b[1;32m      4\u001b[0m df_joined  \u001b[38;5;66;03m# draw the table in the notebook\u001b[39;00m\n",
      "\u001b[0;31mModuleNotFoundError\u001b[0m: No module named 'pandas'"
     ]
    }
   ],
   "source": [
    "from pandas import merge\n",
    "\n",
    "df_joined = merge(df_publications, df_venues, left_on=\"publication venue\", right_on=\"id\")\n",
    "df_joined  # draw the table in the notebook"
   ]
  },
  {
   "cell_type": "markdown",
   "id": "accurate-loading",
   "metadata": {},
   "source": [
    "As you can see from the data frame above, all the rows of the publications data frame (the *left* data frame of the join) have been extended using the values specified in the venues data frame (the *right* data frame of the join) mapping the values in the columns `publication year` (in *left*) and `id` (in *right*). In addition, Pandas modifies the name of the columns that have the same name in both data frames of the join – indeed the columns `type` became `type_x` (refferring to *left*) and `type_y` (referring to *right*).\n",
    "\n",
    "Having this new data frame, the original query we wanted to run becomes pretty easy to define:"
   ]
  },
  {
   "cell_type": "code",
   "execution_count": 22,
   "id": "oriented-scroll",
   "metadata": {
    "tags": []
   },
   "outputs": [
    {
     "ename": "NameError",
     "evalue": "name 'df_joined' is not defined",
     "output_type": "error",
     "traceback": [
      "\u001b[0;31m---------------------------------------------------------------------------\u001b[0m",
      "\u001b[0;31mNameError\u001b[0m                                 Traceback (most recent call last)",
      "Cell \u001b[0;32mIn[22], line 1\u001b[0m\n\u001b[0;32m----> 1\u001b[0m \u001b[43mdf_joined\u001b[49m\u001b[38;5;241m.\u001b[39mquery(\u001b[38;5;124m\"\u001b[39m\u001b[38;5;124mtype_y == \u001b[39m\u001b[38;5;124m'\u001b[39m\u001b[38;5;124mjournal\u001b[39m\u001b[38;5;124m'\u001b[39m\u001b[38;5;124m and name == \u001b[39m\u001b[38;5;124m'\u001b[39m\u001b[38;5;124mCurrent Opinion in Chemical Biology\u001b[39m\u001b[38;5;124m'\u001b[39m\u001b[38;5;124m\"\u001b[39m)\n",
      "\u001b[0;31mNameError\u001b[0m: name 'df_joined' is not defined"
     ]
    }
   ],
   "source": [
    "df_joined.query(\"type_y == 'journal' and name == 'Current Opinion in Chemical Biology'\")"
   ]
  },
  {
   "cell_type": "code",
   "execution_count": null,
   "id": "79a1cad7-094c-4240-a9b1-dee99b7b0f6c",
   "metadata": {},
   "outputs": [],
   "source": []
  }
 ],
 "metadata": {
  "kernelspec": {
   "display_name": "Python 3 (ipykernel)",
   "language": "python",
   "name": "python3"
  },
  "language_info": {
   "codemirror_mode": {
    "name": "ipython",
    "version": 3
   },
   "file_extension": ".py",
   "mimetype": "text/x-python",
   "name": "python",
   "nbconvert_exporter": "python",
   "pygments_lexer": "ipython3",
   "version": "3.10.12"
  }
 },
 "nbformat": 4,
 "nbformat_minor": 5
}