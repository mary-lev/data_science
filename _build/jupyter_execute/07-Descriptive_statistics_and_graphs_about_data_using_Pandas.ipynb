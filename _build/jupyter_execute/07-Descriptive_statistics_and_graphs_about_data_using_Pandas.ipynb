{
 "cells": [
  {
   "cell_type": "markdown",
   "id": "87b0d2e6-6faa-4369-bc0d-ae264867eecf",
   "metadata": {},
   "source": [
    "# Descriptive statistics and graphs about data using Pandas\n",
    "\n",
    "In this tutorial, we show how to use Pandas to calculate basic statistics of a dataset and show figures using automatically-generated graphs."
   ]
  },
  {
   "cell_type": "markdown",
   "id": "8df28521-9b3f-4b22-9419-86765174f02c",
   "metadata": {},
   "source": [
    "## What data are about\n",
    "\n",
    "When you receive a new dataset (such as [the one included in this tutorial](\"07-publications.csv\")), the first you have to do is to analyse it to understand what its data are about, how they have been organised, what is the type of each column, and whether there are any *null* object included in it (e.g. empty cells). In a previous tutorial, we have used an input parameter specified on the function `read_csv` (i.e. `keep_default_na` set to `False`) to rewrite empty cell values as empty strings (i.e. `\"\"`). However, by doing so, we may miss some relevant information about the dataset that we should know from the beginning. Let us see it practically with an example, using the `DataFrame` [method `info`](https://pandas.pydata.org/docs/reference/api/pandas.DataFrame.info.html) that enables us to have a summary of the data frame:"
   ]
  },
  {
   "cell_type": "code",
   "execution_count": 1,
   "id": "cf457c7c-ae3a-4797-ac48-5a3697458be8",
   "metadata": {
    "tags": []
   },
   "outputs": [
    {
     "ename": "ModuleNotFoundError",
     "evalue": "No module named 'pandas'",
     "output_type": "error",
     "traceback": [
      "\u001b[0;31m---------------------------------------------------------------------------\u001b[0m",
      "\u001b[0;31mModuleNotFoundError\u001b[0m                       Traceback (most recent call last)",
      "Cell \u001b[0;32mIn[1], line 1\u001b[0m\n\u001b[0;32m----> 1\u001b[0m \u001b[38;5;28;01mfrom\u001b[39;00m \u001b[38;5;21;01mpandas\u001b[39;00m \u001b[38;5;28;01mimport\u001b[39;00m read_csv\n\u001b[1;32m      3\u001b[0m publications \u001b[38;5;241m=\u001b[39m read_csv(\u001b[38;5;124m\"\u001b[39m\u001b[38;5;124m07-publications.csv\u001b[39m\u001b[38;5;124m\"\u001b[39m, keep_default_na\u001b[38;5;241m=\u001b[39m\u001b[38;5;28;01mFalse\u001b[39;00m)\n\u001b[1;32m      4\u001b[0m publications\u001b[38;5;241m.\u001b[39minfo()\n",
      "\u001b[0;31mModuleNotFoundError\u001b[0m: No module named 'pandas'"
     ]
    }
   ],
   "source": [
    "from pandas import read_csv\n",
    "\n",
    "publications = read_csv(\"07-publications.csv\", keep_default_na=False)\n",
    "publications.info()"
   ]
  },
  {
   "cell_type": "markdown",
   "id": "35af3ee4-60d3-4aa4-9c1e-a639e3f6dcdb",
   "metadata": {},
   "source": [
    "As you can see from the text printed on screen, this seems a perfect dataset: 995 rows, entries organised in seven columns and each cell contains only non-null values. However, is it really the case? The problem here is that, by avoiding to use the default mechanism to assign empty cells, the systems does not recognize them as empty, but rather containing something (e.g. the empty string `\"\"`) which indeed does not contain any charater but, still, is a value associated with a cell.\n",
    "\n",
    "Thus, as a suggestion, when you approach for the very first time a dataset using Pandas, leave the system use its own favourite ways to handle situations (such as empty cells) and observe what this may mean. The following code show the same description reported above leaving the system to handle empty cells as it prefers:"
   ]
  },
  {
   "cell_type": "code",
   "execution_count": 2,
   "id": "aef4a7ba-0bf4-4c01-b493-0a194d94e6bc",
   "metadata": {
    "tags": []
   },
   "outputs": [
    {
     "ename": "NameError",
     "evalue": "name 'read_csv' is not defined",
     "output_type": "error",
     "traceback": [
      "\u001b[0;31m---------------------------------------------------------------------------\u001b[0m",
      "\u001b[0;31mNameError\u001b[0m                                 Traceback (most recent call last)",
      "Cell \u001b[0;32mIn[2], line 1\u001b[0m\n\u001b[0;32m----> 1\u001b[0m publications \u001b[38;5;241m=\u001b[39m \u001b[43mread_csv\u001b[49m(\u001b[38;5;124m\"\u001b[39m\u001b[38;5;124m07-publications.csv\u001b[39m\u001b[38;5;124m\"\u001b[39m)\n\u001b[1;32m      2\u001b[0m publications\u001b[38;5;241m.\u001b[39minfo()\n",
      "\u001b[0;31mNameError\u001b[0m: name 'read_csv' is not defined"
     ]
    }
   ],
   "source": [
    "publications = read_csv(\"07-publications.csv\")\n",
    "publications.info()"
   ]
  },
  {
   "cell_type": "markdown",
   "id": "3207d45a-50ba-410f-9149-0bb396eace63",
   "metadata": {},
   "source": [
    "As you can see, now the description is slightly different. Indeed, the only columns having always a non-null value specified are `doi`, `publication year` and `type`, while the other columns have, somewhere, some cell left unspecified - which is reasonable, if you think about it. For instance, a book chapter does not have any issue or volume and, thus, the related cells must be empty in such a record."
   ]
  },
  {
   "cell_type": "markdown",
   "id": "b0cfbd44-a98d-4f16-b74c-0b002bb454c1",
   "metadata": {},
   "source": [
    "After you got an idea of what kind of columns are included in the data frame, we can move on asking for more information about the values of each column. For retrieving this information, we use the [method `describe`](https://pandas.pydata.org/docs/reference/api/pandas.DataFrame.describe.html). If you want to obtain an overall view contained in a new data frame describing the one on which the method is called, the suggestion is to call such a method using the optional input named parameter `include` set to `\"all\"`, as shown in the following excerpt:"
   ]
  },
  {
   "cell_type": "code",
   "execution_count": 3,
   "id": "d6f0f7b5-7242-4137-94c1-78dbe1286603",
   "metadata": {
    "tags": []
   },
   "outputs": [
    {
     "ename": "NameError",
     "evalue": "name 'publications' is not defined",
     "output_type": "error",
     "traceback": [
      "\u001b[0;31m---------------------------------------------------------------------------\u001b[0m",
      "\u001b[0;31mNameError\u001b[0m                                 Traceback (most recent call last)",
      "Cell \u001b[0;32mIn[3], line 1\u001b[0m\n\u001b[0;32m----> 1\u001b[0m \u001b[43mpublications\u001b[49m\u001b[38;5;241m.\u001b[39mdescribe(include\u001b[38;5;241m=\u001b[39m\u001b[38;5;124m\"\u001b[39m\u001b[38;5;124mall\u001b[39m\u001b[38;5;124m\"\u001b[39m)\n",
      "\u001b[0;31mNameError\u001b[0m: name 'publications' is not defined"
     ]
    }
   ],
   "source": [
    "publications.describe(include=\"all\")"
   ]
  },
  {
   "cell_type": "markdown",
   "id": "4dbb887a-412a-4ea9-8754-2ec2cfe52f03",
   "metadata": {},
   "source": [
    "The data frame above provide a pletora of different [statistics](https://pandas.pydata.org/docs/user_guide/basics.html#descriptive-statistics) about each single column of the original data, some of them apply to a certain columns while other do not. For instance, all the statistics about number manipulations (`mean`, `std`, `min`, etc.) do not apply to strings, and thus a `NaN` is returned in these cases.\n",
    "\n",
    "Some of these statistics are very useful, and allow you to understand something about the data without looking at all of them. For instance:\n",
    "\n",
    "* there are two publications sharing the same title, that is \"Transformation toughening\";\n",
    "* some of the publications (6) do not have a title associated;\n",
    "* while all the publications have a type specified, overall these types come from 5 distinct values only (they seem to highlight descriptive categories);\n",
    "* the oldest publication was published in 1886 while the newest in 2012.\n",
    "\n",
    "Looking at these information, one could be curious about how can exist two publications with the same title. To get more information about it, we can run a query catching all the publications having in common the title \"Transformation toughening\":"
   ]
  },
  {
   "cell_type": "code",
   "execution_count": 4,
   "id": "e225e6e0-3d6d-43f4-b6d3-c8b0557bb590",
   "metadata": {
    "tags": []
   },
   "outputs": [
    {
     "ename": "NameError",
     "evalue": "name 'publications' is not defined",
     "output_type": "error",
     "traceback": [
      "\u001b[0;31m---------------------------------------------------------------------------\u001b[0m",
      "\u001b[0;31mNameError\u001b[0m                                 Traceback (most recent call last)",
      "Cell \u001b[0;32mIn[4], line 1\u001b[0m\n\u001b[0;32m----> 1\u001b[0m \u001b[43mpublications\u001b[49m\u001b[38;5;241m.\u001b[39mquery(\u001b[38;5;124m'\u001b[39m\u001b[38;5;124mtitle == \u001b[39m\u001b[38;5;124m\"\u001b[39m\u001b[38;5;124mTransformation toughening\u001b[39m\u001b[38;5;124m\"\u001b[39m\u001b[38;5;124m'\u001b[39m)\n",
      "\u001b[0;31mNameError\u001b[0m: name 'publications' is not defined"
     ]
    }
   ],
   "source": [
    "publications.query('title == \"Transformation toughening\"')"
   ]
  },
  {
   "cell_type": "markdown",
   "id": "7ca60f14-0a87-4360-b19c-ca887dd71b85",
   "metadata": {},
   "source": [
    "Indeed, these two publications may seem the same one, since they share all the other data, except the DOI. Thus, one possibility would be to use the DOI resolver (https://doi.org) to see to which kind of entities these DOIs (i.e. https://doi.org/10.1007/bf00809059 and https://doi.org/10.1007/bf00809057) actually refer to. Once seen them, are they the same entity? Hint: look at the subtitle and the number of the pages...\n",
    "\n",
    "In addition to the statistics provided in the previous data frame, other statistics can be calculated using the data in the columns of the data frame. For instance, another important statistics for numeric values is the [median](https://en.wikipedia.org/wiki/Median):"
   ]
  },
  {
   "cell_type": "code",
   "execution_count": 5,
   "id": "3f829bc1-c156-47c4-ba74-0c7f83e3cddc",
   "metadata": {
    "tags": []
   },
   "outputs": [
    {
     "name": "stdout",
     "output_type": "stream",
     "text": [
      "-- Median value of the publication years in the data\n"
     ]
    },
    {
     "ename": "NameError",
     "evalue": "name 'publications' is not defined",
     "output_type": "error",
     "traceback": [
      "\u001b[0;31m---------------------------------------------------------------------------\u001b[0m",
      "\u001b[0;31mNameError\u001b[0m                                 Traceback (most recent call last)",
      "Cell \u001b[0;32mIn[5], line 2\u001b[0m\n\u001b[1;32m      1\u001b[0m \u001b[38;5;28mprint\u001b[39m(\u001b[38;5;124m\"\u001b[39m\u001b[38;5;124m-- Median value of the publication years in the data\u001b[39m\u001b[38;5;124m\"\u001b[39m)\n\u001b[0;32m----> 2\u001b[0m \u001b[38;5;28mprint\u001b[39m(\u001b[43mpublications\u001b[49m[\u001b[38;5;124m\"\u001b[39m\u001b[38;5;124mpublication year\u001b[39m\u001b[38;5;124m\"\u001b[39m]\u001b[38;5;241m.\u001b[39mmedian())\n",
      "\u001b[0;31mNameError\u001b[0m: name 'publications' is not defined"
     ]
    }
   ],
   "source": [
    "print(\"-- Median value of the publication years in the data\")\n",
    "print(publications[\"publication year\"].median())"
   ]
  },
  {
   "cell_type": "markdown",
   "id": "7fd95ca0-8b26-4096-b066-eb72fa690fa8",
   "metadata": {},
   "source": [
    "The `Series` [method `median`](https://pandas.pydata.org/docs/reference/api/pandas.Series.median.html)  calculates such an important statistics that enables one to identify the average value of a series of numbers partially-limitating the effect of the [outliers](https://en.wikipedia.org/wiki/Outlier) in the series. Indeed, the average calculated in the data frame above is lower than the median, since it is affected by some very low publication dates (e.g. 1886), which do not affect at all the median instead. \n",
    "\n",
    "Another useful operation one can run on series is provided by the [method `unique`](https://pandas.pydata.org/docs/reference/api/pandas.Series.unique.html). This method is useful to identify what are all the unique values in a series that, in principle, can contain several items. For instance, that can be used to identify the categories in the column `type`:"
   ]
  },
  {
   "cell_type": "code",
   "execution_count": 6,
   "id": "4b585e3b-7fac-4a66-926a-cfd9fa5d01df",
   "metadata": {
    "tags": []
   },
   "outputs": [
    {
     "name": "stdout",
     "output_type": "stream",
     "text": [
      "-- Categories describing types of publications\n"
     ]
    },
    {
     "ename": "NameError",
     "evalue": "name 'publications' is not defined",
     "output_type": "error",
     "traceback": [
      "\u001b[0;31m---------------------------------------------------------------------------\u001b[0m",
      "\u001b[0;31mNameError\u001b[0m                                 Traceback (most recent call last)",
      "Cell \u001b[0;32mIn[6], line 2\u001b[0m\n\u001b[1;32m      1\u001b[0m \u001b[38;5;28mprint\u001b[39m(\u001b[38;5;124m\"\u001b[39m\u001b[38;5;124m-- Categories describing types of publications\u001b[39m\u001b[38;5;124m\"\u001b[39m)\n\u001b[0;32m----> 2\u001b[0m \u001b[43mpublications\u001b[49m[\u001b[38;5;124m\"\u001b[39m\u001b[38;5;124mtype\u001b[39m\u001b[38;5;124m\"\u001b[39m]\u001b[38;5;241m.\u001b[39munique()\n",
      "\u001b[0;31mNameError\u001b[0m: name 'publications' is not defined"
     ]
    }
   ],
   "source": [
    "print(\"-- Categories describing types of publications\")\n",
    "publications[\"type\"].unique()"
   ]
  },
  {
   "cell_type": "markdown",
   "id": "59ec62d6-7ad3-4038-b21f-aa088476a6fa",
   "metadata": {},
   "source": [
    "## Drawing data\n",
    "\n",
    "In addition to generate data frames with descriptive statistics, Pandas makes available also methods to [draw data](https://pandas.pydata.org/docs/user_guide/visualization.html#visualization) in simple graphs, such as line charts, bar charts, etc. For instance, taking as example the types of publications described in the previous code, we could be interested in understanding how many publications of each type are included in the data. For doing so, we first have to retrieve such number for each type using the `Series` [method `value_counts`](https://pandas.pydata.org/docs/reference/api/pandas.Series.value_counts.html), shown as follows:"
   ]
  },
  {
   "cell_type": "code",
   "execution_count": 7,
   "id": "ccd5ee61-d2d9-43a3-a21f-adfa9c9a3336",
   "metadata": {
    "tags": []
   },
   "outputs": [
    {
     "ename": "NameError",
     "evalue": "name 'publications' is not defined",
     "output_type": "error",
     "traceback": [
      "\u001b[0;31m---------------------------------------------------------------------------\u001b[0m",
      "\u001b[0;31mNameError\u001b[0m                                 Traceback (most recent call last)",
      "Cell \u001b[0;32mIn[7], line 1\u001b[0m\n\u001b[0;32m----> 1\u001b[0m type_count \u001b[38;5;241m=\u001b[39m \u001b[43mpublications\u001b[49m[\u001b[38;5;124m\"\u001b[39m\u001b[38;5;124mtype\u001b[39m\u001b[38;5;124m\"\u001b[39m]\u001b[38;5;241m.\u001b[39mvalue_counts()\n\u001b[1;32m      2\u001b[0m type_count\n",
      "\u001b[0;31mNameError\u001b[0m: name 'publications' is not defined"
     ]
    }
   ],
   "source": [
    "type_count = publications[\"type\"].value_counts()\n",
    "type_count"
   ]
  },
  {
   "cell_type": "markdown",
   "id": "558f1f02-fc88-48b0-931e-24a570e31a61",
   "metadata": {},
   "source": [
    "The method `value_counts` applied to a series of strings returns the number of times each string appears in the series, where the unique strings of the series become the index of the new series. These kinds of series can be plotted as a bar chart easily, where the index labels are the categories shown in the x-axis, while the number of times each string is represented in the original series is the value highlighte in the y-axis. This diagram is plotted using the [method `plot`](https://pandas.pydata.org/docs/reference/api/pandas.DataFrame.plot.html), specifying the optional input named parameter `kind` set to `\"bar\"`, as shown as follows:"
   ]
  },
  {
   "cell_type": "code",
   "execution_count": 8,
   "id": "3f25480c-498e-4659-8e04-c64d3feff1cb",
   "metadata": {
    "tags": []
   },
   "outputs": [
    {
     "ename": "NameError",
     "evalue": "name 'type_count' is not defined",
     "output_type": "error",
     "traceback": [
      "\u001b[0;31m---------------------------------------------------------------------------\u001b[0m",
      "\u001b[0;31mNameError\u001b[0m                                 Traceback (most recent call last)",
      "Cell \u001b[0;32mIn[8], line 1\u001b[0m\n\u001b[0;32m----> 1\u001b[0m \u001b[43mtype_count\u001b[49m\u001b[38;5;241m.\u001b[39mplot(kind\u001b[38;5;241m=\u001b[39m\u001b[38;5;124m\"\u001b[39m\u001b[38;5;124mbar\u001b[39m\u001b[38;5;124m\"\u001b[39m)\n",
      "\u001b[0;31mNameError\u001b[0m: name 'type_count' is not defined"
     ]
    }
   ],
   "source": [
    "type_count.plot(kind=\"bar\")"
   ]
  },
  {
   "cell_type": "markdown",
   "id": "2d9a8893-b9d1-4ec3-bdda-a7734f631f73",
   "metadata": {},
   "source": [
    "We can use a similar approach to understand, for instance, what are the top ten venues considering all the publication in the dataset. In this case, we use again the method `value_counts` and then we select the first 10 rows, as shown as follows:"
   ]
  },
  {
   "cell_type": "code",
   "execution_count": 9,
   "id": "7afa9b02-c4a4-45af-be9b-1335e32ef47d",
   "metadata": {
    "tags": []
   },
   "outputs": [
    {
     "ename": "NameError",
     "evalue": "name 'publications' is not defined",
     "output_type": "error",
     "traceback": [
      "\u001b[0;31m---------------------------------------------------------------------------\u001b[0m",
      "\u001b[0;31mNameError\u001b[0m                                 Traceback (most recent call last)",
      "Cell \u001b[0;32mIn[9], line 1\u001b[0m\n\u001b[0;32m----> 1\u001b[0m best_venues \u001b[38;5;241m=\u001b[39m \u001b[43mpublications\u001b[49m[\u001b[38;5;124m\"\u001b[39m\u001b[38;5;124mpublication venue\u001b[39m\u001b[38;5;124m\"\u001b[39m]\u001b[38;5;241m.\u001b[39mvalue_counts()[:\u001b[38;5;241m10\u001b[39m]\n\u001b[1;32m      2\u001b[0m best_venues\n",
      "\u001b[0;31mNameError\u001b[0m: name 'publications' is not defined"
     ]
    }
   ],
   "source": [
    "best_venues = publications[\"publication venue\"].value_counts()[:10]\n",
    "best_venues"
   ]
  },
  {
   "cell_type": "markdown",
   "id": "5bc77837-eee2-46f4-b498-09cb3baec40a",
   "metadata": {},
   "source": [
    "Again, as before, we plot it as a *horizontal* bar chart using the same command shown in the previous example, but setting the parameter `kind` to `\"barh\"`:"
   ]
  },
  {
   "cell_type": "code",
   "execution_count": 10,
   "id": "d0d67629-dc95-40cc-9fd4-c285a5729f77",
   "metadata": {
    "tags": []
   },
   "outputs": [
    {
     "ename": "NameError",
     "evalue": "name 'best_venues' is not defined",
     "output_type": "error",
     "traceback": [
      "\u001b[0;31m---------------------------------------------------------------------------\u001b[0m",
      "\u001b[0;31mNameError\u001b[0m                                 Traceback (most recent call last)",
      "Cell \u001b[0;32mIn[10], line 1\u001b[0m\n\u001b[0;32m----> 1\u001b[0m \u001b[43mbest_venues\u001b[49m\u001b[38;5;241m.\u001b[39mplot(kind\u001b[38;5;241m=\u001b[39m\u001b[38;5;124m\"\u001b[39m\u001b[38;5;124mbarh\u001b[39m\u001b[38;5;124m\"\u001b[39m)\n",
      "\u001b[0;31mNameError\u001b[0m: name 'best_venues' is not defined"
     ]
    }
   ],
   "source": [
    "best_venues.plot(kind=\"barh\")"
   ]
  },
  {
   "cell_type": "markdown",
   "id": "31e19476-0654-4d23-b51b-445b728f921c",
   "metadata": {},
   "source": [
    "We can use a different plot when we deal with *time* series, i.e. series of data that are organised temporally (for instance, year by year). For instance, we could be interested in understading how many publications have been published in each year. To retrieve this information, we can use again the method `value_counts`, but this time applied to the column `publication year`, as shown as follows:"
   ]
  },
  {
   "cell_type": "code",
   "execution_count": 11,
   "id": "7b75cb59-07e2-4e2a-98e5-fe89a87e42aa",
   "metadata": {
    "tags": []
   },
   "outputs": [
    {
     "ename": "NameError",
     "evalue": "name 'publications' is not defined",
     "output_type": "error",
     "traceback": [
      "\u001b[0;31m---------------------------------------------------------------------------\u001b[0m",
      "\u001b[0;31mNameError\u001b[0m                                 Traceback (most recent call last)",
      "Cell \u001b[0;32mIn[11], line 1\u001b[0m\n\u001b[0;32m----> 1\u001b[0m publications_per_year \u001b[38;5;241m=\u001b[39m \u001b[43mpublications\u001b[49m[\u001b[38;5;124m\"\u001b[39m\u001b[38;5;124mpublication year\u001b[39m\u001b[38;5;124m\"\u001b[39m]\u001b[38;5;241m.\u001b[39mvalue_counts()\n\u001b[1;32m      2\u001b[0m publications_per_year\n",
      "\u001b[0;31mNameError\u001b[0m: name 'publications' is not defined"
     ]
    }
   ],
   "source": [
    "publications_per_year = publications[\"publication year\"].value_counts()\n",
    "publications_per_year"
   ]
  },
  {
   "cell_type": "markdown",
   "id": "67e88e1c-24ff-46d5-bc80-c6825ab07444",
   "metadata": {},
   "source": [
    "As you can see, the series contains the number of publications year by year, sorted in descending order, from the year with most publications to that with less publications. In order to draw all these data in the correct temporal order, we need first to sort them in ascending order using the index labels (i.e. the years of publication). For doing so, we can use the `Series` [method `sort_index`](https://pandas.pydata.org/docs/reference/api/pandas.Series.sort_index.html) to generate a new series ordered as mentioned:"
   ]
  },
  {
   "cell_type": "code",
   "execution_count": 12,
   "id": "11a96a76-8d10-48c6-812d-11388cb8ad95",
   "metadata": {
    "tags": []
   },
   "outputs": [
    {
     "ename": "NameError",
     "evalue": "name 'publications_per_year' is not defined",
     "output_type": "error",
     "traceback": [
      "\u001b[0;31m---------------------------------------------------------------------------\u001b[0m",
      "\u001b[0;31mNameError\u001b[0m                                 Traceback (most recent call last)",
      "Cell \u001b[0;32mIn[12], line 1\u001b[0m\n\u001b[0;32m----> 1\u001b[0m publications_per_year_sorted \u001b[38;5;241m=\u001b[39m \u001b[43mpublications_per_year\u001b[49m\u001b[38;5;241m.\u001b[39msort_index()\n\u001b[1;32m      2\u001b[0m publications_per_year_sorted\n",
      "\u001b[0;31mNameError\u001b[0m: name 'publications_per_year' is not defined"
     ]
    }
   ],
   "source": [
    "publications_per_year_sorted = publications_per_year.sort_index()\n",
    "publications_per_year_sorted"
   ]
  },
  {
   "cell_type": "markdown",
   "id": "489eaafb-2f95-4609-9bc9-4cc2d661b940",
   "metadata": {},
   "source": [
    "Then, finally, we can plot this new series using a simple line diagram (the default for the `plot` method) as shown as follows:"
   ]
  },
  {
   "cell_type": "code",
   "execution_count": 13,
   "id": "0aec7e55-ed3e-452a-8e65-beb9bc737558",
   "metadata": {
    "tags": []
   },
   "outputs": [
    {
     "ename": "NameError",
     "evalue": "name 'publications_per_year_sorted' is not defined",
     "output_type": "error",
     "traceback": [
      "\u001b[0;31m---------------------------------------------------------------------------\u001b[0m",
      "\u001b[0;31mNameError\u001b[0m                                 Traceback (most recent call last)",
      "Cell \u001b[0;32mIn[13], line 1\u001b[0m\n\u001b[0;32m----> 1\u001b[0m \u001b[43mpublications_per_year_sorted\u001b[49m\u001b[38;5;241m.\u001b[39mplot()\n",
      "\u001b[0;31mNameError\u001b[0m: name 'publications_per_year_sorted' is not defined"
     ]
    }
   ],
   "source": [
    "publications_per_year_sorted.plot()"
   ]
  },
  {
   "cell_type": "code",
   "execution_count": null,
   "id": "d34f7877-15df-4d52-b266-36a5367ceeed",
   "metadata": {},
   "outputs": [],
   "source": []
  }
 ],
 "metadata": {
  "kernelspec": {
   "display_name": "Python 3 (ipykernel)",
   "language": "python",
   "name": "python3"
  },
  "language_info": {
   "codemirror_mode": {
    "name": "ipython",
    "version": 3
   },
   "file_extension": ".py",
   "mimetype": "text/x-python",
   "name": "python",
   "nbconvert_exporter": "python",
   "pygments_lexer": "ipython3",
   "version": "3.10.12"
  }
 },
 "nbformat": 4,
 "nbformat_minor": 5
}