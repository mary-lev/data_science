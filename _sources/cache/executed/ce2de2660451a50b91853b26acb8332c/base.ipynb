{
 "cells": [
  {
   "cell_type": "code",
   "execution_count": 1,
   "id": "historic-transcript",
   "metadata": {
    "tags": []
   },
   "outputs": [
    {
     "ename": "ModuleNotFoundError",
     "evalue": "No module named 'rdflib'",
     "output_type": "error",
     "traceback": [
      "\u001b[0;31m---------------------------------------------------------------------------\u001b[0m",
      "\u001b[0;31mModuleNotFoundError\u001b[0m                       Traceback (most recent call last)",
      "Cell \u001b[0;32mIn[1], line 1\u001b[0m\n\u001b[0;32m----> 1\u001b[0m \u001b[38;5;28;01mfrom\u001b[39;00m \u001b[38;5;21;01mrdflib\u001b[39;00m \u001b[38;5;28;01mimport\u001b[39;00m Graph\n\u001b[1;32m      3\u001b[0m my_graph \u001b[38;5;241m=\u001b[39m Graph()\n",
      "\u001b[0;31mModuleNotFoundError\u001b[0m: No module named 'rdflib'"
     ]
    }
   ],
   "source": [
    "from rdflib import Graph\n",
    "\n",
    "my_graph = Graph()"
   ]
  },
  {
   "cell_type": "code",
   "execution_count": 2,
   "id": "scientific-norfolk",
   "metadata": {
    "tags": []
   },
   "outputs": [
    {
     "ename": "ModuleNotFoundError",
     "evalue": "No module named 'rdflib'",
     "output_type": "error",
     "traceback": [
      "\u001b[0;31m---------------------------------------------------------------------------\u001b[0m",
      "\u001b[0;31mModuleNotFoundError\u001b[0m                       Traceback (most recent call last)",
      "Cell \u001b[0;32mIn[2], line 1\u001b[0m\n\u001b[0;32m----> 1\u001b[0m \u001b[38;5;28;01mfrom\u001b[39;00m \u001b[38;5;21;01mrdflib\u001b[39;00m \u001b[38;5;28;01mimport\u001b[39;00m URIRef\n\u001b[1;32m      3\u001b[0m \u001b[38;5;66;03m# classes of resources\u001b[39;00m\n\u001b[1;32m      4\u001b[0m JournalArticle \u001b[38;5;241m=\u001b[39m URIRef(\u001b[38;5;124m\"\u001b[39m\u001b[38;5;124mhttps://schema.org/ScholarlyArticle\u001b[39m\u001b[38;5;124m\"\u001b[39m)\n",
      "\u001b[0;31mModuleNotFoundError\u001b[0m: No module named 'rdflib'"
     ]
    }
   ],
   "source": [
    "from rdflib import URIRef\n",
    "\n",
    "# classes of resources\n",
    "JournalArticle = URIRef(\"https://schema.org/ScholarlyArticle\")\n",
    "BookChapter = URIRef(\"https://schema.org/Chapter\")\n",
    "Journal = URIRef(\"https://schema.org/Periodical\")\n",
    "Book = URIRef(\"https://schema.org/Book\")\n",
    "\n",
    "# attributes related to classes\n",
    "doi = URIRef(\"https://schema.org/identifier\")\n",
    "publicationYear = URIRef(\"https://schema.org/datePublished\")\n",
    "title = URIRef(\"https://schema.org/name\")\n",
    "issue = URIRef(\"https://schema.org/issueNumber\")\n",
    "volume = URIRef(\"https://schema.org/volumeNumber\")\n",
    "identifier = URIRef(\"https://schema.org/identifier\")\n",
    "name = URIRef(\"https://schema.org/name\")\n",
    "\n",
    "# relations among classes\n",
    "publicationVenue = URIRef(\"https://schema.org/isPartOf\")"
   ]
  },
  {
   "cell_type": "code",
   "execution_count": 3,
   "id": "functioning-lemon",
   "metadata": {
    "tags": []
   },
   "outputs": [
    {
     "ename": "ModuleNotFoundError",
     "evalue": "No module named 'rdflib'",
     "output_type": "error",
     "traceback": [
      "\u001b[0;31m---------------------------------------------------------------------------\u001b[0m",
      "\u001b[0;31mModuleNotFoundError\u001b[0m                       Traceback (most recent call last)",
      "Cell \u001b[0;32mIn[3], line 1\u001b[0m\n\u001b[0;32m----> 1\u001b[0m \u001b[38;5;28;01mfrom\u001b[39;00m \u001b[38;5;21;01mrdflib\u001b[39;00m \u001b[38;5;28;01mimport\u001b[39;00m Literal\n\u001b[1;32m      3\u001b[0m a_string \u001b[38;5;241m=\u001b[39m Literal(\u001b[38;5;124m\"\u001b[39m\u001b[38;5;124ma string with this value\u001b[39m\u001b[38;5;124m\"\u001b[39m)\n\u001b[1;32m      4\u001b[0m a_number \u001b[38;5;241m=\u001b[39m Literal(\u001b[38;5;241m42\u001b[39m)\n",
      "\u001b[0;31mModuleNotFoundError\u001b[0m: No module named 'rdflib'"
     ]
    }
   ],
   "source": [
    "from rdflib import Literal\n",
    "\n",
    "a_string = Literal(\"a string with this value\")\n",
    "a_number = Literal(42)\n",
    "a_boolean = Literal(True)"
   ]
  },
  {
   "cell_type": "code",
   "execution_count": 4,
   "id": "ultimate-circle",
   "metadata": {
    "tags": []
   },
   "outputs": [
    {
     "ename": "ModuleNotFoundError",
     "evalue": "No module named 'pandas'",
     "output_type": "error",
     "traceback": [
      "\u001b[0;31m---------------------------------------------------------------------------\u001b[0m",
      "\u001b[0;31mModuleNotFoundError\u001b[0m                       Traceback (most recent call last)",
      "Cell \u001b[0;32mIn[4], line 1\u001b[0m\n\u001b[0;32m----> 1\u001b[0m \u001b[38;5;28;01mfrom\u001b[39;00m \u001b[38;5;21;01mpandas\u001b[39;00m \u001b[38;5;28;01mimport\u001b[39;00m read_csv, Series\n\u001b[1;32m      2\u001b[0m \u001b[38;5;28;01mfrom\u001b[39;00m \u001b[38;5;21;01mrdflib\u001b[39;00m \u001b[38;5;28;01mimport\u001b[39;00m RDF\n\u001b[1;32m      4\u001b[0m \u001b[38;5;66;03m# This is the string defining the base URL used to defined\u001b[39;00m\n\u001b[1;32m      5\u001b[0m \u001b[38;5;66;03m# the URLs of all the resources created from the data\u001b[39;00m\n",
      "\u001b[0;31mModuleNotFoundError\u001b[0m: No module named 'pandas'"
     ]
    }
   ],
   "source": [
    "from pandas import read_csv, Series\n",
    "from rdflib import RDF\n",
    "\n",
    "# This is the string defining the base URL used to defined\n",
    "# the URLs of all the resources created from the data\n",
    "base_url = \"https://comp-data.github.io/res/\"\n",
    "\n",
    "venues = read_csv(\"../01/01-venues.csv\", \n",
    "                  keep_default_na=False,\n",
    "                  dtype={\n",
    "                      \"id\": \"string\",\n",
    "                      \"name\": \"string\",\n",
    "                      \"type\": \"string\"\n",
    "                  })\n",
    "\n",
    "venue_internal_id = {}\n",
    "for idx, row in venues.iterrows():\n",
    "    local_id = \"venue-\" + str(idx)\n",
    "    \n",
    "    # The shape of the new resources that are venues is\n",
    "    # 'https://comp-data.github.io/res/venue-<integer>'\n",
    "    subj = URIRef(base_url + local_id)\n",
    "    \n",
    "    # We put the new venue resources created here, to use them\n",
    "    # when creating publications\n",
    "    venue_internal_id[row[\"id\"]] = subj\n",
    "    \n",
    "    if row[\"type\"] == \"journal\":\n",
    "        # RDF.type is the URIRef already provided by rdflib of the property \n",
    "        # 'http://www.w3.org/1999/02/22-rdf-syntax-ns#type'\n",
    "        my_graph.add((subj, RDF.type, Journal))\n",
    "    else:\n",
    "        my_graph.add((subj, RDF.type, Book))\n",
    "    \n",
    "    my_graph.add((subj, name, Literal(row[\"name\"])))\n",
    "    my_graph.add((subj, identifier, Literal(row[\"id\"])))"
   ]
  },
  {
   "cell_type": "code",
   "execution_count": 5,
   "id": "attractive-genius",
   "metadata": {
    "tags": []
   },
   "outputs": [
    {
     "name": "stdout",
     "output_type": "stream",
     "text": [
      "-- Number of triples added to the graph after processing the venues\n"
     ]
    },
    {
     "ename": "NameError",
     "evalue": "name 'my_graph' is not defined",
     "output_type": "error",
     "traceback": [
      "\u001b[0;31m---------------------------------------------------------------------------\u001b[0m",
      "\u001b[0;31mNameError\u001b[0m                                 Traceback (most recent call last)",
      "Cell \u001b[0;32mIn[5], line 2\u001b[0m\n\u001b[1;32m      1\u001b[0m \u001b[38;5;28mprint\u001b[39m(\u001b[38;5;124m\"\u001b[39m\u001b[38;5;124m-- Number of triples added to the graph after processing the venues\u001b[39m\u001b[38;5;124m\"\u001b[39m)\n\u001b[0;32m----> 2\u001b[0m \u001b[38;5;28mprint\u001b[39m(\u001b[38;5;28mlen\u001b[39m(\u001b[43mmy_graph\u001b[49m))\n",
      "\u001b[0;31mNameError\u001b[0m: name 'my_graph' is not defined"
     ]
    }
   ],
   "source": [
    "print(\"-- Number of triples added to the graph after processing the venues\")\n",
    "print(len(my_graph))"
   ]
  },
  {
   "cell_type": "code",
   "execution_count": 6,
   "id": "flexible-affiliate",
   "metadata": {
    "tags": []
   },
   "outputs": [
    {
     "ename": "NameError",
     "evalue": "name 'read_csv' is not defined",
     "output_type": "error",
     "traceback": [
      "\u001b[0;31m---------------------------------------------------------------------------\u001b[0m",
      "\u001b[0;31mNameError\u001b[0m                                 Traceback (most recent call last)",
      "Cell \u001b[0;32mIn[6], line 1\u001b[0m\n\u001b[0;32m----> 1\u001b[0m publications \u001b[38;5;241m=\u001b[39m \u001b[43mread_csv\u001b[49m(\u001b[38;5;124m\"\u001b[39m\u001b[38;5;124m../01/01-publications.csv\u001b[39m\u001b[38;5;124m\"\u001b[39m, \n\u001b[1;32m      2\u001b[0m                         keep_default_na\u001b[38;5;241m=\u001b[39m\u001b[38;5;28;01mFalse\u001b[39;00m,\n\u001b[1;32m      3\u001b[0m                         dtype\u001b[38;5;241m=\u001b[39m{\n\u001b[1;32m      4\u001b[0m                             \u001b[38;5;124m\"\u001b[39m\u001b[38;5;124mdoi\u001b[39m\u001b[38;5;124m\"\u001b[39m: \u001b[38;5;124m\"\u001b[39m\u001b[38;5;124mstring\u001b[39m\u001b[38;5;124m\"\u001b[39m,\n\u001b[1;32m      5\u001b[0m                             \u001b[38;5;124m\"\u001b[39m\u001b[38;5;124mtitle\u001b[39m\u001b[38;5;124m\"\u001b[39m: \u001b[38;5;124m\"\u001b[39m\u001b[38;5;124mstring\u001b[39m\u001b[38;5;124m\"\u001b[39m,\n\u001b[1;32m      6\u001b[0m                             \u001b[38;5;124m\"\u001b[39m\u001b[38;5;124mpublication year\u001b[39m\u001b[38;5;124m\"\u001b[39m: \u001b[38;5;124m\"\u001b[39m\u001b[38;5;124mint\u001b[39m\u001b[38;5;124m\"\u001b[39m,\n\u001b[1;32m      7\u001b[0m                             \u001b[38;5;124m\"\u001b[39m\u001b[38;5;124mpublication venue\u001b[39m\u001b[38;5;124m\"\u001b[39m: \u001b[38;5;124m\"\u001b[39m\u001b[38;5;124mstring\u001b[39m\u001b[38;5;124m\"\u001b[39m,\n\u001b[1;32m      8\u001b[0m                             \u001b[38;5;124m\"\u001b[39m\u001b[38;5;124mtype\u001b[39m\u001b[38;5;124m\"\u001b[39m: \u001b[38;5;124m\"\u001b[39m\u001b[38;5;124mstring\u001b[39m\u001b[38;5;124m\"\u001b[39m,\n\u001b[1;32m      9\u001b[0m                             \u001b[38;5;124m\"\u001b[39m\u001b[38;5;124missue\u001b[39m\u001b[38;5;124m\"\u001b[39m: \u001b[38;5;124m\"\u001b[39m\u001b[38;5;124mstring\u001b[39m\u001b[38;5;124m\"\u001b[39m,\n\u001b[1;32m     10\u001b[0m                             \u001b[38;5;124m\"\u001b[39m\u001b[38;5;124mvolume\u001b[39m\u001b[38;5;124m\"\u001b[39m: \u001b[38;5;124m\"\u001b[39m\u001b[38;5;124mstring\u001b[39m\u001b[38;5;124m\"\u001b[39m\n\u001b[1;32m     11\u001b[0m                         })\n\u001b[1;32m     13\u001b[0m \u001b[38;5;28;01mfor\u001b[39;00m idx, row \u001b[38;5;129;01min\u001b[39;00m publications\u001b[38;5;241m.\u001b[39miterrows():\n\u001b[1;32m     14\u001b[0m     local_id \u001b[38;5;241m=\u001b[39m \u001b[38;5;124m\"\u001b[39m\u001b[38;5;124mpublication-\u001b[39m\u001b[38;5;124m\"\u001b[39m \u001b[38;5;241m+\u001b[39m \u001b[38;5;28mstr\u001b[39m(idx)\n",
      "\u001b[0;31mNameError\u001b[0m: name 'read_csv' is not defined"
     ]
    }
   ],
   "source": [
    "publications = read_csv(\"../01/01-publications.csv\", \n",
    "                        keep_default_na=False,\n",
    "                        dtype={\n",
    "                            \"doi\": \"string\",\n",
    "                            \"title\": \"string\",\n",
    "                            \"publication year\": \"int\",\n",
    "                            \"publication venue\": \"string\",\n",
    "                            \"type\": \"string\",\n",
    "                            \"issue\": \"string\",\n",
    "                            \"volume\": \"string\"\n",
    "                        })\n",
    "\n",
    "for idx, row in publications.iterrows():\n",
    "    local_id = \"publication-\" + str(idx)\n",
    "    \n",
    "    # The shape of the new resources that are publications is\n",
    "    # 'https://comp-data.github.io/res/publication-<integer>'\n",
    "    subj = URIRef(base_url + local_id)\n",
    "    \n",
    "    if row[\"type\"] == \"journal article\":\n",
    "        my_graph.add((subj, RDF.type, JournalArticle))\n",
    "\n",
    "        # These two statements applies only to journal articles\n",
    "        my_graph.add((subj, issue, Literal(row[\"issue\"])))\n",
    "        my_graph.add((subj, volume, Literal(row[\"volume\"])))\n",
    "    else:\n",
    "        my_graph.add((subj, RDF.type, BookChapter))\n",
    "    \n",
    "    my_graph.add((subj, name, Literal(row[\"title\"])))\n",
    "    my_graph.add((subj, identifier, Literal(row[\"doi\"])))\n",
    "    \n",
    "    # The original value here has been casted to string since the Date type\n",
    "    # in schema.org ('https://schema.org/Date') is actually a string-like value\n",
    "    my_graph.add((subj, publicationYear, Literal(str(row[\"publication year\"]))))\n",
    "    \n",
    "    # The URL of the related publication venue is taken from the previous\n",
    "    # dictionary defined when processing the venues\n",
    "    my_graph.add((subj, publicationVenue, venue_internal_id[row[\"publication venue\"]]))"
   ]
  },
  {
   "cell_type": "code",
   "execution_count": 7,
   "id": "identified-transfer",
   "metadata": {
    "tags": []
   },
   "outputs": [
    {
     "name": "stdout",
     "output_type": "stream",
     "text": [
      "-- Number of triples added to the graph after processing venues and publications\n"
     ]
    },
    {
     "ename": "NameError",
     "evalue": "name 'my_graph' is not defined",
     "output_type": "error",
     "traceback": [
      "\u001b[0;31m---------------------------------------------------------------------------\u001b[0m",
      "\u001b[0;31mNameError\u001b[0m                                 Traceback (most recent call last)",
      "Cell \u001b[0;32mIn[7], line 2\u001b[0m\n\u001b[1;32m      1\u001b[0m \u001b[38;5;28mprint\u001b[39m(\u001b[38;5;124m\"\u001b[39m\u001b[38;5;124m-- Number of triples added to the graph after processing venues and publications\u001b[39m\u001b[38;5;124m\"\u001b[39m)\n\u001b[0;32m----> 2\u001b[0m \u001b[38;5;28mprint\u001b[39m(\u001b[38;5;28mlen\u001b[39m(\u001b[43mmy_graph\u001b[49m))\n",
      "\u001b[0;31mNameError\u001b[0m: name 'my_graph' is not defined"
     ]
    }
   ],
   "source": [
    "print(\"-- Number of triples added to the graph after processing venues and publications\")\n",
    "print(len(my_graph))"
   ]
  },
  {
   "cell_type": "code",
   "execution_count": 8,
   "id": "saved-prescription",
   "metadata": {
    "tags": []
   },
   "outputs": [
    {
     "ename": "ModuleNotFoundError",
     "evalue": "No module named 'rdflib'",
     "output_type": "error",
     "traceback": [
      "\u001b[0;31m---------------------------------------------------------------------------\u001b[0m",
      "\u001b[0;31mModuleNotFoundError\u001b[0m                       Traceback (most recent call last)",
      "Cell \u001b[0;32mIn[8], line 1\u001b[0m\n\u001b[0;32m----> 1\u001b[0m \u001b[38;5;28;01mfrom\u001b[39;00m \u001b[38;5;21;01mrdflib\u001b[39;00m\u001b[38;5;21;01m.\u001b[39;00m\u001b[38;5;21;01mplugins\u001b[39;00m\u001b[38;5;21;01m.\u001b[39;00m\u001b[38;5;21;01mstores\u001b[39;00m\u001b[38;5;21;01m.\u001b[39;00m\u001b[38;5;21;01msparqlstore\u001b[39;00m \u001b[38;5;28;01mimport\u001b[39;00m SPARQLUpdateStore\n\u001b[1;32m      3\u001b[0m store \u001b[38;5;241m=\u001b[39m SPARQLUpdateStore()\n\u001b[1;32m      5\u001b[0m \u001b[38;5;66;03m# The URL of the SPARQL endpoint is the same URL of the Blazegraph\u001b[39;00m\n\u001b[1;32m      6\u001b[0m \u001b[38;5;66;03m# instance + '/sparql'\u001b[39;00m\n",
      "\u001b[0;31mModuleNotFoundError\u001b[0m: No module named 'rdflib'"
     ]
    }
   ],
   "source": [
    "from rdflib.plugins.stores.sparqlstore import SPARQLUpdateStore\n",
    "\n",
    "store = SPARQLUpdateStore()\n",
    "\n",
    "# The URL of the SPARQL endpoint is the same URL of the Blazegraph\n",
    "# instance + '/sparql'\n",
    "endpoint = 'http://127.0.0.1:9999/blazegraph/sparql'\n",
    "\n",
    "# It opens the connection with the SPARQL endpoint instance\n",
    "store.open((endpoint, endpoint))\n",
    "\n",
    "for triple in my_graph.triples((None, None, None)):\n",
    "   store.add(triple)\n",
    "    \n",
    "# Once finished, remeber to close the connection\n",
    "store.close()"
   ]
  },
  {
   "cell_type": "code",
   "execution_count": null,
   "id": "a37b2377-c274-4b6f-8283-f4df73a1e99d",
   "metadata": {},
   "outputs": [],
   "source": []
  }
 ],
 "metadata": {
  "kernelspec": {
   "display_name": "Python 3 (ipykernel)",
   "language": "python",
   "name": "python3"
  },
  "language_info": {
   "codemirror_mode": {
    "name": "ipython",
    "version": 3
   },
   "file_extension": ".py",
   "mimetype": "text/x-python",
   "name": "python",
   "nbconvert_exporter": "python",
   "pygments_lexer": "ipython3",
   "version": "3.10.12"
  }
 },
 "nbformat": 4,
 "nbformat_minor": 5
}