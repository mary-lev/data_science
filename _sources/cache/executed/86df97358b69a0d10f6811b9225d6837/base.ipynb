{
 "cells": [
  {
   "cell_type": "code",
   "execution_count": 1,
   "id": "processed-physiology",
   "metadata": {
    "tags": []
   },
   "outputs": [],
   "source": [
    "class Venue(object):\n",
    "    def __init__(self, identifiers, name):\n",
    "        self.id = set()\n",
    "        for identifier in identifiers:\n",
    "            self.id.add(identifier)\n",
    "\n",
    "        self.name = name"
   ]
  },
  {
   "cell_type": "code",
   "execution_count": 2,
   "id": "alpha-reading",
   "metadata": {
    "tags": []
   },
   "outputs": [],
   "source": [
    "class Publication(object):\n",
    "    def __init__(self, doi, publicationYear, title, publicationVenue):\n",
    "        self.doi = doi\n",
    "        self.publicationYear = publicationYear\n",
    "        self.title = title\n",
    "        self.publicationVenue = publicationVenue"
   ]
  },
  {
   "cell_type": "code",
   "execution_count": 3,
   "id": "dated-contamination",
   "metadata": {
    "tags": []
   },
   "outputs": [],
   "source": [
    "venue_1 = Venue([\"1531-6912\"], \"Comparative and Functional Genomics\")\n",
    "venue_2 = Venue([\"1367-5931\"], \"Current Opinion in Chemica Biology\")"
   ]
  },
  {
   "cell_type": "code",
   "execution_count": 4,
   "id": "reported-sixth",
   "metadata": {
    "tags": []
   },
   "outputs": [
    {
     "name": "stdout",
     "output_type": "stream",
     "text": [
      "The objects in 'value_1' and 'value_2' share the same class --> True\n",
      "Indeed, the types of the two objects are both <class '__main__.Venue'>\n",
      "\n",
      "The objects in 'value_1' and 'value_2' are the same object --> False\n",
      "Indeed, the integers identifying the two objects are 140152449400736 and 140152449400112 respectively\n"
     ]
    }
   ],
   "source": [
    "print(\"The objects in 'value_1' and 'value_2' share the same class -->\", type(venue_1) == type(venue_2))\n",
    "print(\"Indeed, the types of the two objects are both\", type(venue_1))\n",
    "\n",
    "print(\"\\nThe objects in 'value_1' and 'value_2' are the same object -->\", id(venue_1) == id(venue_2))\n",
    "print(\"Indeed, the integers identifying the two objects are\", id(venue_1), \"and\", id(venue_2), \"respectively\")"
   ]
  },
  {
   "cell_type": "code",
   "execution_count": 5,
   "id": "outer-steal",
   "metadata": {
    "tags": []
   },
   "outputs": [],
   "source": [
    "publication_1 = Publication(\"10.1002/cfg.304\", \n",
    "                            2003, \n",
    "                            \"Development of Computational Tools for the Inference of Protein Interaction Specificity Rules and Functional Annotation Using Structural Information\", \n",
    "                            venue_1)\n",
    "\n",
    "publication_2 = Publication(\"10.1016/s1367-5931(02)00332-0\", \n",
    "                            2002, \n",
    "                            \"In vitro selection as a powerful tool for the applied evolution of proteins and peptides\", \n",
    "                            venue_2)"
   ]
  },
  {
   "cell_type": "code",
   "execution_count": 6,
   "id": "charming-minister",
   "metadata": {
    "tags": []
   },
   "outputs": [],
   "source": [
    "class BookChapter(Publication):\n",
    "    pass\n",
    "\n",
    "class Journal(Venue):\n",
    "    pass\n",
    "\n",
    "class Book(Venue):\n",
    "    pass"
   ]
  },
  {
   "cell_type": "code",
   "execution_count": 7,
   "id": "alert-conducting",
   "metadata": {
    "tags": []
   },
   "outputs": [
    {
     "name": "stdout",
     "output_type": "stream",
     "text": [
      "The objects in 'journal_1' and 'venue_1' share the same class --> False\n",
      "Indeed, the types of the two objects are <class '__main__.Journal'> and <class '__main__.Venue'> respectively\n"
     ]
    }
   ],
   "source": [
    "# An object of class 'Journal' is instantiated using the same parameters\n",
    "# of the constructor of its parent class 'Venue' since 'Journal' does not\n",
    "# define any explicit constructor\n",
    "journal_1 = Journal([\"1531-6912\"], \"Comparative and Functional Genomics\")\n",
    "\n",
    "print(\"The objects in 'journal_1' and 'venue_1' share the same class -->\", type(journal_1) == type(venue_1))\n",
    "print(\"Indeed, the types of the two objects are\", type(journal_1), \"and\", type(venue_1), \"respectively\")"
   ]
  },
  {
   "cell_type": "code",
   "execution_count": 8,
   "id": "affiliated-ridge",
   "metadata": {
    "tags": []
   },
   "outputs": [],
   "source": [
    "class JournalArticle(Publication):\n",
    "    def __init__(self, doi, publicationYear, title, publicationVenue, issue, volume):\n",
    "        self.issue = issue\n",
    "        self.volume = volume\n",
    "        \n",
    "        # Here is where the constructor of the superclass is explicitly recalled, so as\n",
    "        # to handle the input parameters as done in the superclass\n",
    "        super().__init__(doi, publicationYear, title, publicationVenue)"
   ]
  },
  {
   "cell_type": "code",
   "execution_count": 9,
   "id": "accurate-supply",
   "metadata": {
    "tags": []
   },
   "outputs": [],
   "source": [
    "journal_article_1 = JournalArticle(\"10.1002/cfg.304\", \n",
    "                                   2003, \n",
    "                                   \"Development of Computational Tools for the Inference of Protein Interaction Specificity Rules and Functional Annotation Using Structural Information\", \n",
    "                                   journal_1, \n",
    "                                   \"4\", \n",
    "                                   \"4\")"
   ]
  },
  {
   "cell_type": "code",
   "execution_count": 10,
   "id": "driven-governor",
   "metadata": {
    "tags": []
   },
   "outputs": [
    {
     "name": "stdout",
     "output_type": "stream",
     "text": [
      "Development of Computational Tools for the Inference of Protein Interaction Specificity Rules and Functional Annotation Using Structural Information\n"
     ]
    }
   ],
   "source": [
    "print(journal_article_1.title)"
   ]
  },
  {
   "cell_type": "code",
   "execution_count": 11,
   "id": "amateur-burner",
   "metadata": {
    "tags": []
   },
   "outputs": [
    {
     "name": "stdout",
     "output_type": "stream",
     "text": [
      "My new title!\n"
     ]
    }
   ],
   "source": [
    "journal_article_1.title = \"My new title!\"\n",
    "print(journal_article_1.title)"
   ]
  },
  {
   "cell_type": "code",
   "execution_count": 12,
   "id": "verified-essex",
   "metadata": {
    "tags": []
   },
   "outputs": [],
   "source": [
    "class Publication(object):\n",
    "    def __init__(self, doi, publicationYear, title, publicationVenue):\n",
    "        self.doi = doi\n",
    "        self.publicationYear = publicationYear\n",
    "        self.title = title\n",
    "        self.publicationVenue = publicationVenue\n",
    "    \n",
    "    def getDOI(self):\n",
    "        return self.doi\n",
    "    \n",
    "    def getPublicationYear(self):\n",
    "        return self.publicationYear\n",
    "    \n",
    "    def getTitle(self):\n",
    "        return self.title\n",
    "    \n",
    "    def getPublicationVenue(self):\n",
    "        return self.publicationVenue"
   ]
  },
  {
   "cell_type": "code",
   "execution_count": 13,
   "id": "racial-detective",
   "metadata": {
    "tags": []
   },
   "outputs": [
    {
     "name": "stdout",
     "output_type": "stream",
     "text": [
      "-- The title of this publication is:\n",
      "In vitro selection as a powerful tool for the applied evolution of proteins and peptides\n"
     ]
    }
   ],
   "source": [
    "# It uses the most recent definition of the class 'Publication', i.e. that with\n",
    "# the new methods implemented\n",
    "publication_2 = Publication(\"10.1016/s1367-5931(02)00332-0\", \n",
    "                            2002, \n",
    "                            \"In vitro selection as a powerful tool for the applied evolution of proteins and peptides\", \n",
    "                            venue_2)\n",
    "\n",
    "print(\"-- The title of this publication is:\")\n",
    "print(publication_2.getTitle())"
   ]
  },
  {
   "cell_type": "code",
   "execution_count": 14,
   "id": "floppy-radical",
   "metadata": {
    "tags": []
   },
   "outputs": [],
   "source": [
    "class Venue(object):\n",
    "    def __init__(self, identifiers, name):\n",
    "        self.id = set()\n",
    "        for identifier in identifiers:\n",
    "            self.id.add(identifier)\n",
    "            \n",
    "        self.name = name\n",
    "    \n",
    "    def getIds(self):\n",
    "        result = []\n",
    "        for identifier in self.id:\n",
    "            result.append(identifier)\n",
    "        result.sort()\n",
    "        return result\n",
    "    \n",
    "    def getName(self):\n",
    "        return self.name\n",
    "    \n",
    "    def addId(self, identifier):\n",
    "        result = True\n",
    "        if identifier not in self.id:\n",
    "            self.id.add(identifier)\n",
    "        else:\n",
    "            result = False\n",
    "        return result\n",
    "    \n",
    "    def removeId(self, identifier):\n",
    "        result = True\n",
    "        if identifier in self.id:\n",
    "            self.id.remove(identifier)\n",
    "        else:\n",
    "            result = False\n",
    "        return result"
   ]
  },
  {
   "cell_type": "code",
   "execution_count": 15,
   "id": "painted-management",
   "metadata": {
    "tags": []
   },
   "outputs": [
    {
     "name": "stdout",
     "output_type": "stream",
     "text": [
      "The value in 'self.id' and that returned by the method 'getIds' are two different objects -->\n",
      "True\n",
      "\n",
      "However, they both contains the same collection of element -->\n",
      "True\n"
     ]
    }
   ],
   "source": [
    "venue_1 = Venue([\"1531-6912\"], \"Comparative and Functional Genomics\")\n",
    "\n",
    "print(\"The value in 'self.id' and that returned by the method 'getIds' are two different objects -->\")\n",
    "print(id(venue_1.id) != id(venue_1.getIds())) \n",
    "\n",
    "print(\"\\nHowever, they both contains the same collection of element -->\")\n",
    "print(len(venue_1.id.difference(venue_1.getIds())) == 0)"
   ]
  },
  {
   "cell_type": "code",
   "execution_count": 16,
   "id": "legitimate-creator",
   "metadata": {
    "tags": []
   },
   "outputs": [],
   "source": [
    "class JournalArticle(Publication):\n",
    "    def __init__(self, doi, publicationYear, title, publicationVenue, issue, volume):\n",
    "        self.issue = issue\n",
    "        self.volume = volume\n",
    "        \n",
    "        # Here is where the constructor of the superclass is explicitly recalled, so as\n",
    "        # to handle the input parameters as done in the superclass\n",
    "        super().__init__(doi, publicationYear, title, publicationVenue)\n",
    "    \n",
    "    def getIssue(self):\n",
    "        return self.issue\n",
    "    \n",
    "    def getVolume(self):\n",
    "        return self.volume"
   ]
  },
  {
   "cell_type": "code",
   "execution_count": 17,
   "id": "caroline-trunk",
   "metadata": {
    "tags": []
   },
   "outputs": [
    {
     "name": "stdout",
     "output_type": "stream",
     "text": [
      "-- The title of the journal article (method defined in the superclass 'Publication')\n",
      "Development of Computational Tools for the Inference of Protein Interaction Specificity Rules and Functional Annotation Using Structural Information\n",
      "\n",
      "-- The title of the journal article (method defined in the class 'JournalArticle')\n",
      "4\n"
     ]
    }
   ],
   "source": [
    "# It uses the most recent definition of the class 'JournalArticle', i.e. that with\n",
    "# the new methods implemented\n",
    "journal_article_1 = JournalArticle(\"10.1002/cfg.304\", \n",
    "                                   2003, \n",
    "                                   \"Development of Computational Tools for the Inference of Protein Interaction Specificity Rules and Functional Annotation Using Structural Information\", \n",
    "                                   journal_1, \n",
    "                                   \"4\", \n",
    "                                   \"4\")\n",
    "\n",
    "print(\"-- The title of the journal article (method defined in the superclass 'Publication')\")\n",
    "print(journal_article_1.getTitle())\n",
    "\n",
    "print(\"\\n-- The title of the journal article (method defined in the class 'JournalArticle')\")\n",
    "print(journal_article_1.getIssue())"
   ]
  }
 ],
 "metadata": {
  "kernelspec": {
   "display_name": "Python 3 (ipykernel)",
   "language": "python",
   "name": "python3"
  },
  "language_info": {
   "codemirror_mode": {
    "name": "ipython",
    "version": 3
   },
   "file_extension": ".py",
   "mimetype": "text/x-python",
   "name": "python",
   "nbconvert_exporter": "python",
   "pygments_lexer": "ipython3",
   "version": "3.10.12"
  }
 },
 "nbformat": 4,
 "nbformat_minor": 5
}