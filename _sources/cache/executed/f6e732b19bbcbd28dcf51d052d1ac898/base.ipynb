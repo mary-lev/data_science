{
 "cells": [
  {
   "cell_type": "code",
   "execution_count": 1,
   "id": "technical-collect",
   "metadata": {
    "tags": []
   },
   "outputs": [],
   "source": [
    "from sqlite3 import connect\n",
    "\n",
    "with connect(\"publications.db\") as con:\n",
    "    # do some operation with the new connection\n",
    "    \n",
    "    con.commit()  # commit the current transaction to the database\n",
    "    \n",
    "    # when you finish, the collection will be closed automatically via 'with'"
   ]
  },
  {
   "cell_type": "code",
   "execution_count": 2,
   "id": "hired-anaheim",
   "metadata": {
    "tags": []
   },
   "outputs": [
    {
     "ename": "ModuleNotFoundError",
     "evalue": "No module named 'pandas'",
     "output_type": "error",
     "traceback": [
      "\u001b[0;31m---------------------------------------------------------------------------\u001b[0m",
      "\u001b[0;31mModuleNotFoundError\u001b[0m                       Traceback (most recent call last)",
      "Cell \u001b[0;32mIn[2], line 1\u001b[0m\n\u001b[0;32m----> 1\u001b[0m \u001b[38;5;28;01mfrom\u001b[39;00m \u001b[38;5;21;01mpandas\u001b[39;00m \u001b[38;5;28;01mimport\u001b[39;00m read_csv, Series\n\u001b[1;32m      3\u001b[0m venues \u001b[38;5;241m=\u001b[39m read_csv(\u001b[38;5;124m\"\u001b[39m\u001b[38;5;124m../01/01-venues.csv\u001b[39m\u001b[38;5;124m\"\u001b[39m, \n\u001b[1;32m      4\u001b[0m                   keep_default_na\u001b[38;5;241m=\u001b[39m\u001b[38;5;28;01mFalse\u001b[39;00m,\n\u001b[1;32m      5\u001b[0m                   dtype\u001b[38;5;241m=\u001b[39m{\n\u001b[0;32m   (...)\u001b[0m\n\u001b[1;32m      8\u001b[0m                       \u001b[38;5;124m\"\u001b[39m\u001b[38;5;124mtype\u001b[39m\u001b[38;5;124m\"\u001b[39m: \u001b[38;5;124m\"\u001b[39m\u001b[38;5;124mstring\u001b[39m\u001b[38;5;124m\"\u001b[39m\n\u001b[1;32m      9\u001b[0m                   })\n\u001b[1;32m     11\u001b[0m \u001b[38;5;66;03m# This will create a new data frame starting from 'venues' one,\u001b[39;00m\n\u001b[1;32m     12\u001b[0m \u001b[38;5;66;03m# and it will include only the column \"id\"\u001b[39;00m\n",
      "\u001b[0;31mModuleNotFoundError\u001b[0m: No module named 'pandas'"
     ]
    }
   ],
   "source": [
    "from pandas import read_csv, Series\n",
    "\n",
    "venues = read_csv(\"../01/01-venues.csv\", \n",
    "                  keep_default_na=False,\n",
    "                  dtype={\n",
    "                      \"id\": \"string\",\n",
    "                      \"name\": \"string\",\n",
    "                      \"type\": \"string\"\n",
    "                  })\n",
    "\n",
    "# This will create a new data frame starting from 'venues' one,\n",
    "# and it will include only the column \"id\"\n",
    "venues_ids = venues[[\"id\"]]\n",
    "\n",
    "# Generate a list of internal identifiers for the venues\n",
    "venue_internal_id = []\n",
    "for idx, row in venues_ids.iterrows():\n",
    "    venue_internal_id.append(\"venue-\" + str(idx))\n",
    "\n",
    "# Add the list of venues internal identifiers as a new column\n",
    "# of the data frame via the class 'Series'\n",
    "venues_ids.insert(0, \"venueId\", Series(venue_internal_id, dtype=\"string\"))\n",
    "\n",
    "# Show the new data frame on screen\n",
    "venues_ids"
   ]
  },
  {
   "cell_type": "code",
   "execution_count": 3,
   "id": "dress-chapter",
   "metadata": {
    "tags": []
   },
   "outputs": [
    {
     "ename": "NameError",
     "evalue": "name 'venues' is not defined",
     "output_type": "error",
     "traceback": [
      "\u001b[0;31m---------------------------------------------------------------------------\u001b[0m",
      "\u001b[0;31mNameError\u001b[0m                                 Traceback (most recent call last)",
      "Cell \u001b[0;32mIn[3], line 2\u001b[0m\n\u001b[1;32m      1\u001b[0m \u001b[38;5;66;03m# Data frame of journals\u001b[39;00m\n\u001b[0;32m----> 2\u001b[0m journals \u001b[38;5;241m=\u001b[39m \u001b[43mvenues\u001b[49m\u001b[38;5;241m.\u001b[39mquery(\u001b[38;5;124m\"\u001b[39m\u001b[38;5;124mtype == \u001b[39m\u001b[38;5;124m'\u001b[39m\u001b[38;5;124mjournal\u001b[39m\u001b[38;5;124m'\u001b[39m\u001b[38;5;124m\"\u001b[39m)\n\u001b[1;32m      3\u001b[0m journals  \u001b[38;5;66;03m# Showing the data frame\u001b[39;00m\n",
      "\u001b[0;31mNameError\u001b[0m: name 'venues' is not defined"
     ]
    }
   ],
   "source": [
    "# Data frame of journals\n",
    "journals = venues.query(\"type == 'journal'\")\n",
    "journals  # Showing the data frame"
   ]
  },
  {
   "cell_type": "code",
   "execution_count": 4,
   "id": "skilled-excellence",
   "metadata": {
    "tags": []
   },
   "outputs": [
    {
     "ename": "ModuleNotFoundError",
     "evalue": "No module named 'pandas'",
     "output_type": "error",
     "traceback": [
      "\u001b[0;31m---------------------------------------------------------------------------\u001b[0m",
      "\u001b[0;31mModuleNotFoundError\u001b[0m                       Traceback (most recent call last)",
      "Cell \u001b[0;32mIn[4], line 1\u001b[0m\n\u001b[0;32m----> 1\u001b[0m \u001b[38;5;28;01mfrom\u001b[39;00m \u001b[38;5;21;01mpandas\u001b[39;00m \u001b[38;5;28;01mimport\u001b[39;00m merge\n\u001b[1;32m      3\u001b[0m df_joined \u001b[38;5;241m=\u001b[39m merge(journals, venues_ids, left_on\u001b[38;5;241m=\u001b[39m\u001b[38;5;124m\"\u001b[39m\u001b[38;5;124mid\u001b[39m\u001b[38;5;124m\"\u001b[39m, right_on\u001b[38;5;241m=\u001b[39m\u001b[38;5;124m\"\u001b[39m\u001b[38;5;124mid\u001b[39m\u001b[38;5;124m\"\u001b[39m)\n\u001b[1;32m      4\u001b[0m df_joined\n",
      "\u001b[0;31mModuleNotFoundError\u001b[0m: No module named 'pandas'"
     ]
    }
   ],
   "source": [
    "from pandas import merge\n",
    "\n",
    "df_joined = merge(journals, venues_ids, left_on=\"id\", right_on=\"id\")\n",
    "df_joined"
   ]
  },
  {
   "cell_type": "code",
   "execution_count": 5,
   "id": "starting-anchor",
   "metadata": {
    "tags": []
   },
   "outputs": [
    {
     "ename": "NameError",
     "evalue": "name 'df_joined' is not defined",
     "output_type": "error",
     "traceback": [
      "\u001b[0;31m---------------------------------------------------------------------------\u001b[0m",
      "\u001b[0;31mNameError\u001b[0m                                 Traceback (most recent call last)",
      "Cell \u001b[0;32mIn[5], line 1\u001b[0m\n\u001b[0;32m----> 1\u001b[0m journals \u001b[38;5;241m=\u001b[39m \u001b[43mdf_joined\u001b[49m[[\u001b[38;5;124m\"\u001b[39m\u001b[38;5;124mvenueId\u001b[39m\u001b[38;5;124m\"\u001b[39m, \u001b[38;5;124m\"\u001b[39m\u001b[38;5;124mname\u001b[39m\u001b[38;5;124m\"\u001b[39m]]\n\u001b[1;32m      2\u001b[0m journals \u001b[38;5;241m=\u001b[39m journals\u001b[38;5;241m.\u001b[39mrename(columns\u001b[38;5;241m=\u001b[39m{\u001b[38;5;124m\"\u001b[39m\u001b[38;5;124mvenueId\u001b[39m\u001b[38;5;124m\"\u001b[39m: \u001b[38;5;124m\"\u001b[39m\u001b[38;5;124minternalId\u001b[39m\u001b[38;5;124m\"\u001b[39m})\n\u001b[1;32m      3\u001b[0m journals\n",
      "\u001b[0;31mNameError\u001b[0m: name 'df_joined' is not defined"
     ]
    }
   ],
   "source": [
    "journals = df_joined[[\"venueId\", \"name\"]]\n",
    "journals = journals.rename(columns={\"venueId\": \"internalId\"})\n",
    "journals"
   ]
  },
  {
   "cell_type": "code",
   "execution_count": 6,
   "id": "willing-springfield",
   "metadata": {
    "tags": []
   },
   "outputs": [
    {
     "ename": "NameError",
     "evalue": "name 'venues' is not defined",
     "output_type": "error",
     "traceback": [
      "\u001b[0;31m---------------------------------------------------------------------------\u001b[0m",
      "\u001b[0;31mNameError\u001b[0m                                 Traceback (most recent call last)",
      "Cell \u001b[0;32mIn[6], line 3\u001b[0m\n\u001b[1;32m      1\u001b[0m \u001b[38;5;66;03m# Data frame of books\u001b[39;00m\n\u001b[0;32m----> 3\u001b[0m books \u001b[38;5;241m=\u001b[39m \u001b[43mvenues\u001b[49m\u001b[38;5;241m.\u001b[39mquery(\u001b[38;5;124m\"\u001b[39m\u001b[38;5;124mtype == \u001b[39m\u001b[38;5;124m'\u001b[39m\u001b[38;5;124mbook\u001b[39m\u001b[38;5;124m'\u001b[39m\u001b[38;5;124m\"\u001b[39m)\n\u001b[1;32m      4\u001b[0m df_joined \u001b[38;5;241m=\u001b[39m merge(books, venues_ids, left_on\u001b[38;5;241m=\u001b[39m\u001b[38;5;124m\"\u001b[39m\u001b[38;5;124mid\u001b[39m\u001b[38;5;124m\"\u001b[39m, right_on\u001b[38;5;241m=\u001b[39m\u001b[38;5;124m\"\u001b[39m\u001b[38;5;124mid\u001b[39m\u001b[38;5;124m\"\u001b[39m)\n\u001b[1;32m      5\u001b[0m books \u001b[38;5;241m=\u001b[39m df_joined[[\u001b[38;5;124m\"\u001b[39m\u001b[38;5;124mvenueId\u001b[39m\u001b[38;5;124m\"\u001b[39m, \u001b[38;5;124m\"\u001b[39m\u001b[38;5;124mname\u001b[39m\u001b[38;5;124m\"\u001b[39m]]\n",
      "\u001b[0;31mNameError\u001b[0m: name 'venues' is not defined"
     ]
    }
   ],
   "source": [
    "# Data frame of books\n",
    "\n",
    "books = venues.query(\"type == 'book'\")\n",
    "df_joined = merge(books, venues_ids, left_on=\"id\", right_on=\"id\")\n",
    "books = df_joined[[\"venueId\", \"name\"]]\n",
    "books = books.rename(columns={\"venueId\": \"internalId\"})\n",
    "books"
   ]
  },
  {
   "cell_type": "code",
   "execution_count": 7,
   "id": "essential-japanese",
   "metadata": {
    "tags": []
   },
   "outputs": [
    {
     "ename": "NameError",
     "evalue": "name 'read_csv' is not defined",
     "output_type": "error",
     "traceback": [
      "\u001b[0;31m---------------------------------------------------------------------------\u001b[0m",
      "\u001b[0;31mNameError\u001b[0m                                 Traceback (most recent call last)",
      "Cell \u001b[0;32mIn[7], line 1\u001b[0m\n\u001b[0;32m----> 1\u001b[0m publications \u001b[38;5;241m=\u001b[39m \u001b[43mread_csv\u001b[49m(\u001b[38;5;124m\"\u001b[39m\u001b[38;5;124m../01/01-publications.csv\u001b[39m\u001b[38;5;124m\"\u001b[39m, \n\u001b[1;32m      2\u001b[0m                         keep_default_na\u001b[38;5;241m=\u001b[39m\u001b[38;5;28;01mFalse\u001b[39;00m,\n\u001b[1;32m      3\u001b[0m                         dtype\u001b[38;5;241m=\u001b[39m{\n\u001b[1;32m      4\u001b[0m                             \u001b[38;5;124m\"\u001b[39m\u001b[38;5;124mdoi\u001b[39m\u001b[38;5;124m\"\u001b[39m: \u001b[38;5;124m\"\u001b[39m\u001b[38;5;124mstring\u001b[39m\u001b[38;5;124m\"\u001b[39m,\n\u001b[1;32m      5\u001b[0m                             \u001b[38;5;124m\"\u001b[39m\u001b[38;5;124mtitle\u001b[39m\u001b[38;5;124m\"\u001b[39m: \u001b[38;5;124m\"\u001b[39m\u001b[38;5;124mstring\u001b[39m\u001b[38;5;124m\"\u001b[39m,\n\u001b[1;32m      6\u001b[0m                             \u001b[38;5;124m\"\u001b[39m\u001b[38;5;124mpublication year\u001b[39m\u001b[38;5;124m\"\u001b[39m: \u001b[38;5;124m\"\u001b[39m\u001b[38;5;124mint\u001b[39m\u001b[38;5;124m\"\u001b[39m,\n\u001b[1;32m      7\u001b[0m                             \u001b[38;5;124m\"\u001b[39m\u001b[38;5;124mpublication venue\u001b[39m\u001b[38;5;124m\"\u001b[39m: \u001b[38;5;124m\"\u001b[39m\u001b[38;5;124mstring\u001b[39m\u001b[38;5;124m\"\u001b[39m,\n\u001b[1;32m      8\u001b[0m                             \u001b[38;5;124m\"\u001b[39m\u001b[38;5;124mtype\u001b[39m\u001b[38;5;124m\"\u001b[39m: \u001b[38;5;124m\"\u001b[39m\u001b[38;5;124mstring\u001b[39m\u001b[38;5;124m\"\u001b[39m,\n\u001b[1;32m      9\u001b[0m                             \u001b[38;5;124m\"\u001b[39m\u001b[38;5;124missue\u001b[39m\u001b[38;5;124m\"\u001b[39m: \u001b[38;5;124m\"\u001b[39m\u001b[38;5;124mstring\u001b[39m\u001b[38;5;124m\"\u001b[39m,\n\u001b[1;32m     10\u001b[0m                             \u001b[38;5;124m\"\u001b[39m\u001b[38;5;124mvolume\u001b[39m\u001b[38;5;124m\"\u001b[39m: \u001b[38;5;124m\"\u001b[39m\u001b[38;5;124mstring\u001b[39m\u001b[38;5;124m\"\u001b[39m\n\u001b[1;32m     11\u001b[0m                         })\n\u001b[1;32m     13\u001b[0m \u001b[38;5;66;03m# Create a new column with internal identifiers for each publication\u001b[39;00m\n\u001b[1;32m     14\u001b[0m publication_internal_id \u001b[38;5;241m=\u001b[39m []\n",
      "\u001b[0;31mNameError\u001b[0m: name 'read_csv' is not defined"
     ]
    }
   ],
   "source": [
    "publications = read_csv(\"../01/01-publications.csv\", \n",
    "                        keep_default_na=False,\n",
    "                        dtype={\n",
    "                            \"doi\": \"string\",\n",
    "                            \"title\": \"string\",\n",
    "                            \"publication year\": \"int\",\n",
    "                            \"publication venue\": \"string\",\n",
    "                            \"type\": \"string\",\n",
    "                            \"issue\": \"string\",\n",
    "                            \"volume\": \"string\"\n",
    "                        })\n",
    "\n",
    "# Create a new column with internal identifiers for each publication\n",
    "publication_internal_id = []\n",
    "for idx, row in publications.iterrows():\n",
    "    publication_internal_id.append(\"publication-\" + str(idx))\n",
    "publications.insert(0, \"internalId\", Series(publication_internal_id, dtype=\"string\"))\n",
    "publications"
   ]
  },
  {
   "cell_type": "code",
   "execution_count": 8,
   "id": "herbal-manchester",
   "metadata": {
    "tags": []
   },
   "outputs": [
    {
     "ename": "NameError",
     "evalue": "name 'publications' is not defined",
     "output_type": "error",
     "traceback": [
      "\u001b[0;31m---------------------------------------------------------------------------\u001b[0m",
      "\u001b[0;31mNameError\u001b[0m                                 Traceback (most recent call last)",
      "Cell \u001b[0;32mIn[8], line 2\u001b[0m\n\u001b[1;32m      1\u001b[0m \u001b[38;5;66;03m# Data frame of journal articles\u001b[39;00m\n\u001b[0;32m----> 2\u001b[0m journal_articles \u001b[38;5;241m=\u001b[39m \u001b[43mpublications\u001b[49m\u001b[38;5;241m.\u001b[39mquery(\u001b[38;5;124m\"\u001b[39m\u001b[38;5;124mtype == \u001b[39m\u001b[38;5;124m'\u001b[39m\u001b[38;5;124mjournal article\u001b[39m\u001b[38;5;124m'\u001b[39m\u001b[38;5;124m\"\u001b[39m)\n\u001b[1;32m      3\u001b[0m df_joined \u001b[38;5;241m=\u001b[39m merge(journal_articles, venues_ids, left_on\u001b[38;5;241m=\u001b[39m\u001b[38;5;124m\"\u001b[39m\u001b[38;5;124mpublication venue\u001b[39m\u001b[38;5;124m\"\u001b[39m, right_on\u001b[38;5;241m=\u001b[39m\u001b[38;5;124m\"\u001b[39m\u001b[38;5;124mid\u001b[39m\u001b[38;5;124m\"\u001b[39m)\n\u001b[1;32m      4\u001b[0m journal_articles \u001b[38;5;241m=\u001b[39m df_joined[\n\u001b[1;32m      5\u001b[0m     [\u001b[38;5;124m\"\u001b[39m\u001b[38;5;124minternalId\u001b[39m\u001b[38;5;124m\"\u001b[39m, \u001b[38;5;124m\"\u001b[39m\u001b[38;5;124mdoi\u001b[39m\u001b[38;5;124m\"\u001b[39m, \u001b[38;5;124m\"\u001b[39m\u001b[38;5;124mpublication year\u001b[39m\u001b[38;5;124m\"\u001b[39m, \u001b[38;5;124m\"\u001b[39m\u001b[38;5;124mtitle\u001b[39m\u001b[38;5;124m\"\u001b[39m, \u001b[38;5;124m\"\u001b[39m\u001b[38;5;124missue\u001b[39m\u001b[38;5;124m\"\u001b[39m, \u001b[38;5;124m\"\u001b[39m\u001b[38;5;124mvolume\u001b[39m\u001b[38;5;124m\"\u001b[39m, \u001b[38;5;124m\"\u001b[39m\u001b[38;5;124mvenueId\u001b[39m\u001b[38;5;124m\"\u001b[39m]]\n",
      "\u001b[0;31mNameError\u001b[0m: name 'publications' is not defined"
     ]
    }
   ],
   "source": [
    "# Data frame of journal articles\n",
    "journal_articles = publications.query(\"type == 'journal article'\")\n",
    "df_joined = merge(journal_articles, venues_ids, left_on=\"publication venue\", right_on=\"id\")\n",
    "journal_articles = df_joined[\n",
    "    [\"internalId\", \"doi\", \"publication year\", \"title\", \"issue\", \"volume\", \"venueId\"]]\n",
    "journal_articles = journal_articles.rename(columns={\n",
    "    \"publication year\": \"publicationYear\",\n",
    "    \"venueId\": \"publicationVenue\"})\n",
    "journal_articles"
   ]
  },
  {
   "cell_type": "code",
   "execution_count": 9,
   "id": "adequate-rachel",
   "metadata": {
    "tags": []
   },
   "outputs": [
    {
     "ename": "NameError",
     "evalue": "name 'publications' is not defined",
     "output_type": "error",
     "traceback": [
      "\u001b[0;31m---------------------------------------------------------------------------\u001b[0m",
      "\u001b[0;31mNameError\u001b[0m                                 Traceback (most recent call last)",
      "Cell \u001b[0;32mIn[9], line 2\u001b[0m\n\u001b[1;32m      1\u001b[0m \u001b[38;5;66;03m# Data frame of book chapters\u001b[39;00m\n\u001b[0;32m----> 2\u001b[0m book_chapters \u001b[38;5;241m=\u001b[39m \u001b[43mpublications\u001b[49m\u001b[38;5;241m.\u001b[39mquery(\u001b[38;5;124m\"\u001b[39m\u001b[38;5;124mtype == \u001b[39m\u001b[38;5;124m'\u001b[39m\u001b[38;5;124mbook chapter\u001b[39m\u001b[38;5;124m'\u001b[39m\u001b[38;5;124m\"\u001b[39m)\n\u001b[1;32m      3\u001b[0m df_joined \u001b[38;5;241m=\u001b[39m merge(book_chapters, venues_ids, left_on\u001b[38;5;241m=\u001b[39m\u001b[38;5;124m\"\u001b[39m\u001b[38;5;124mpublication venue\u001b[39m\u001b[38;5;124m\"\u001b[39m, right_on\u001b[38;5;241m=\u001b[39m\u001b[38;5;124m\"\u001b[39m\u001b[38;5;124mid\u001b[39m\u001b[38;5;124m\"\u001b[39m)\n\u001b[1;32m      4\u001b[0m book_chapters \u001b[38;5;241m=\u001b[39m df_joined[\n\u001b[1;32m      5\u001b[0m     [\u001b[38;5;124m\"\u001b[39m\u001b[38;5;124minternalId\u001b[39m\u001b[38;5;124m\"\u001b[39m, \u001b[38;5;124m\"\u001b[39m\u001b[38;5;124mdoi\u001b[39m\u001b[38;5;124m\"\u001b[39m, \u001b[38;5;124m\"\u001b[39m\u001b[38;5;124mpublication year\u001b[39m\u001b[38;5;124m\"\u001b[39m, \u001b[38;5;124m\"\u001b[39m\u001b[38;5;124mtitle\u001b[39m\u001b[38;5;124m\"\u001b[39m, \u001b[38;5;124m\"\u001b[39m\u001b[38;5;124mvenueId\u001b[39m\u001b[38;5;124m\"\u001b[39m]]\n",
      "\u001b[0;31mNameError\u001b[0m: name 'publications' is not defined"
     ]
    }
   ],
   "source": [
    "# Data frame of book chapters\n",
    "book_chapters = publications.query(\"type == 'book chapter'\")\n",
    "df_joined = merge(book_chapters, venues_ids, left_on=\"publication venue\", right_on=\"id\")\n",
    "book_chapters = df_joined[\n",
    "    [\"internalId\", \"doi\", \"publication year\", \"title\", \"venueId\"]]\n",
    "book_chapters = book_chapters.rename(columns={\n",
    "    \"publication year\": \"publicationYear\",\n",
    "    \"venueId\": \"publicationVenue\"})\n",
    "book_chapters"
   ]
  },
  {
   "cell_type": "code",
   "execution_count": 10,
   "id": "suited-staff",
   "metadata": {
    "tags": []
   },
   "outputs": [
    {
     "ename": "NameError",
     "evalue": "name 'venues_ids' is not defined",
     "output_type": "error",
     "traceback": [
      "\u001b[0;31m---------------------------------------------------------------------------\u001b[0m",
      "\u001b[0;31mNameError\u001b[0m                                 Traceback (most recent call last)",
      "Cell \u001b[0;32mIn[10], line 2\u001b[0m\n\u001b[1;32m      1\u001b[0m \u001b[38;5;28;01mwith\u001b[39;00m connect(\u001b[38;5;124m\"\u001b[39m\u001b[38;5;124mpublications.db\u001b[39m\u001b[38;5;124m\"\u001b[39m) \u001b[38;5;28;01mas\u001b[39;00m con:\n\u001b[0;32m----> 2\u001b[0m     \u001b[43mvenues_ids\u001b[49m\u001b[38;5;241m.\u001b[39mto_sql(\u001b[38;5;124m\"\u001b[39m\u001b[38;5;124mVenueId\u001b[39m\u001b[38;5;124m\"\u001b[39m, con, if_exists\u001b[38;5;241m=\u001b[39m\u001b[38;5;124m\"\u001b[39m\u001b[38;5;124mreplace\u001b[39m\u001b[38;5;124m\"\u001b[39m, index\u001b[38;5;241m=\u001b[39m\u001b[38;5;28;01mFalse\u001b[39;00m)\n\u001b[1;32m      3\u001b[0m     journals\u001b[38;5;241m.\u001b[39mto_sql(\u001b[38;5;124m\"\u001b[39m\u001b[38;5;124mJournal\u001b[39m\u001b[38;5;124m\"\u001b[39m, con, if_exists\u001b[38;5;241m=\u001b[39m\u001b[38;5;124m\"\u001b[39m\u001b[38;5;124mreplace\u001b[39m\u001b[38;5;124m\"\u001b[39m, index\u001b[38;5;241m=\u001b[39m\u001b[38;5;28;01mFalse\u001b[39;00m)\n\u001b[1;32m      4\u001b[0m     books\u001b[38;5;241m.\u001b[39mto_sql(\u001b[38;5;124m\"\u001b[39m\u001b[38;5;124mBook\u001b[39m\u001b[38;5;124m\"\u001b[39m, con, if_exists\u001b[38;5;241m=\u001b[39m\u001b[38;5;124m\"\u001b[39m\u001b[38;5;124mreplace\u001b[39m\u001b[38;5;124m\"\u001b[39m, index\u001b[38;5;241m=\u001b[39m\u001b[38;5;28;01mFalse\u001b[39;00m)\n",
      "\u001b[0;31mNameError\u001b[0m: name 'venues_ids' is not defined"
     ]
    }
   ],
   "source": [
    "with connect(\"publications.db\") as con:\n",
    "    venues_ids.to_sql(\"VenueId\", con, if_exists=\"replace\", index=False)\n",
    "    journals.to_sql(\"Journal\", con, if_exists=\"replace\", index=False)\n",
    "    books.to_sql(\"Book\", con, if_exists=\"replace\", index=False)\n",
    "    journal_articles.to_sql(\"JournalArticle\", con, if_exists=\"replace\", index=False)\n",
    "    book_chapters.to_sql(\"BookChapter\", con, if_exists=\"replace\", index=False)"
   ]
  },
  {
   "cell_type": "code",
   "execution_count": null,
   "id": "multiple-budapest",
   "metadata": {},
   "outputs": [],
   "source": []
  }
 ],
 "metadata": {
  "kernelspec": {
   "display_name": "Python 3 (ipykernel)",
   "language": "python",
   "name": "python3"
  },
  "language_info": {
   "codemirror_mode": {
    "name": "ipython",
    "version": 3
   },
   "file_extension": ".py",
   "mimetype": "text/x-python",
   "name": "python",
   "nbconvert_exporter": "python",
   "pygments_lexer": "ipython3",
   "version": "3.10.12"
  }
 },
 "nbformat": 4,
 "nbformat_minor": 5
}